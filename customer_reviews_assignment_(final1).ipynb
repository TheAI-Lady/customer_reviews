{
  "nbformat": 4,
  "nbformat_minor": 0,
  "metadata": {
    "colab": {
      "name": "customer_reviews_assignment (final1).ipynb",
      "provenance": [],
      "collapsed_sections": []
    },
    "kernelspec": {
      "display_name": "Python 3",
      "language": "python",
      "name": "python3"
    },
    "language_info": {
      "codemirror_mode": {
        "name": "ipython",
        "version": 3
      },
      "file_extension": ".py",
      "mimetype": "text/x-python",
      "name": "python",
      "nbconvert_exporter": "python",
      "pygments_lexer": "ipython3",
      "version": "3.8.5"
    },
    "toc": {
      "base_numbering": 1,
      "nav_menu": {},
      "number_sections": true,
      "sideBar": true,
      "skip_h1_title": false,
      "title_cell": "Table of Contents",
      "title_sidebar": "Contents",
      "toc_cell": false,
      "toc_position": {},
      "toc_section_display": true,
      "toc_window_display": false
    },
    "varInspector": {
      "cols": {
        "lenName": 16,
        "lenType": 16,
        "lenVar": 40
      },
      "kernels_config": {
        "python": {
          "delete_cmd_postfix": "",
          "delete_cmd_prefix": "del ",
          "library": "var_list.py",
          "varRefreshCmd": "print(var_dic_list())"
        },
        "r": {
          "delete_cmd_postfix": ") ",
          "delete_cmd_prefix": "rm(",
          "library": "var_list.r",
          "varRefreshCmd": "cat(var_dic_list()) "
        }
      },
      "types_to_exclude": [
        "module",
        "function",
        "builtin_function_or_method",
        "instance",
        "_Feature"
      ],
      "window_display": false
    }
  },
  "cells": [
    {
      "cell_type": "code",
      "metadata": {
        "colab": {
          "base_uri": "https://localhost:8080/"
        },
        "id": "l7ADUSqG6fzq",
        "outputId": "0d738d36-af2d-4151-d4a1-300d1a73cdd3"
      },
      "source": [
        "#%%capture\n",
        "!pip install nltk"
      ],
      "execution_count": 1,
      "outputs": [
        {
          "output_type": "stream",
          "text": [
            "Requirement already satisfied: nltk in /usr/local/lib/python3.7/dist-packages (3.2.5)\n",
            "Requirement already satisfied: six in /usr/local/lib/python3.7/dist-packages (from nltk) (1.15.0)\n"
          ],
          "name": "stdout"
        }
      ]
    },
    {
      "cell_type": "code",
      "metadata": {
        "colab": {
          "base_uri": "https://localhost:8080/"
        },
        "id": "h8wXvR7aDt2V",
        "outputId": "f0d4962d-383c-4b75-f783-d31c4fde95be"
      },
      "source": [
        "# General packages\n",
        "!pip install wordcloud\n",
        "\n",
        "import numpy as np\n",
        "import pandas as pd\n",
        "import seaborn as sns\n",
        "import matplotlib.pyplot as plt\n",
        "import os\n",
        "\n",
        "# NLP packages\n",
        "import nltk\n",
        "from nltk import word_tokenize\n",
        "from sklearn.feature_extraction.text import CountVectorizer\n",
        "from sklearn.feature_extraction.text import TfidfVectorizer\n",
        "from collections import Counter\n",
        "from wordcloud import WordCloud\n",
        "nltk.download('punkt')\n",
        "\n",
        "# Modeling packages\n",
        "from sklearn.model_selection import train_test_split\n",
        "from sklearn.linear_model import LogisticRegression\n",
        "from sklearn.naive_bayes import MultinomialNB \n",
        "from sklearn.svm import LinearSVC\n",
        "from sklearn.ensemble import RandomForestClassifier\n",
        "from sklearn.metrics import accuracy_score\n",
        "from sklearn.metrics import f1_score\n",
        "from sklearn import metrics\n",
        "from sklearn.model_selection import cross_val_score\n",
        "from sklearn.metrics import precision_score\n",
        "from sklearn.metrics import recall_score\n",
        "\n",
        "from pylab import rcParams\n",
        "import warnings\n",
        "warnings.filterwarnings(\"ignore\")\n",
        "rcParams['figure.figsize'] = 14, 6\n",
        "plt.style.use('ggplot')"
      ],
      "execution_count": 2,
      "outputs": [
        {
          "output_type": "stream",
          "text": [
            "Requirement already satisfied: wordcloud in /usr/local/lib/python3.7/dist-packages (1.5.0)\n",
            "Requirement already satisfied: pillow in /usr/local/lib/python3.7/dist-packages (from wordcloud) (7.1.2)\n",
            "Requirement already satisfied: numpy>=1.6.1 in /usr/local/lib/python3.7/dist-packages (from wordcloud) (1.19.5)\n",
            "[nltk_data] Downloading package punkt to /root/nltk_data...\n",
            "[nltk_data]   Unzipping tokenizers/punkt.zip.\n"
          ],
          "name": "stdout"
        }
      ]
    },
    {
      "cell_type": "code",
      "metadata": {
        "colab": {
          "resources": {
            "http://localhost:8080/nbextensions/google.colab/files.js": {
              "data": "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",
              "ok": true,
              "headers": [
                [
                  "content-type",
                  "application/javascript"
                ]
              ],
              "status": 200,
              "status_text": ""
            }
          },
          "base_uri": "https://localhost:8080/",
          "height": 73
        },
        "id": "EhfLJNgpDt2X",
        "scrolled": false,
        "outputId": "7ed186f5-b2fb-43ca-f7af-cae449ab43e0"
      },
      "source": [
        "from google.colab import files\n",
        "uploaded = files.upload()\n"
      ],
      "execution_count": 3,
      "outputs": [
        {
          "output_type": "display_data",
          "data": {
            "text/html": [
              "\n",
              "     <input type=\"file\" id=\"files-e71d4cd9-f9b6-42d9-b841-0d1504e57424\" name=\"files[]\" multiple disabled\n",
              "        style=\"border:none\" />\n",
              "     <output id=\"result-e71d4cd9-f9b6-42d9-b841-0d1504e57424\">\n",
              "      Upload widget is only available when the cell has been executed in the\n",
              "      current browser session. Please rerun this cell to enable.\n",
              "      </output>\n",
              "      <script src=\"/nbextensions/google.colab/files.js\"></script> "
            ],
            "text/plain": [
              "<IPython.core.display.HTML object>"
            ]
          },
          "metadata": {
            "tags": []
          }
        },
        {
          "output_type": "stream",
          "text": [
            "Saving Customer_Reviews.csv to Customer_Reviews.csv\n"
          ],
          "name": "stdout"
        }
      ]
    },
    {
      "cell_type": "code",
      "metadata": {
        "colab": {
          "base_uri": "https://localhost:8080/",
          "height": 297
        },
        "id": "g_HWiyTi9hqt",
        "outputId": "0f5cef6a-e871-40cf-f744-205528aace67"
      },
      "source": [
        "import io\n",
        "customer_reviews = pd.read_csv(io.BytesIO(uploaded['Customer_Reviews.csv']))\n",
        "#customer_reviews = pd.read_csv('./Customer_Reviews.csv')\n",
        "customer_reviews.head(3)\n",
        "# Dataset is now stored in a Pandas Dataframe\n"
      ],
      "execution_count": 4,
      "outputs": [
        {
          "output_type": "execute_result",
          "data": {
            "text/html": [
              "<div>\n",
              "<style scoped>\n",
              "    .dataframe tbody tr th:only-of-type {\n",
              "        vertical-align: middle;\n",
              "    }\n",
              "\n",
              "    .dataframe tbody tr th {\n",
              "        vertical-align: top;\n",
              "    }\n",
              "\n",
              "    .dataframe thead th {\n",
              "        text-align: right;\n",
              "    }\n",
              "</style>\n",
              "<table border=\"1\" class=\"dataframe\">\n",
              "  <thead>\n",
              "    <tr style=\"text-align: right;\">\n",
              "      <th></th>\n",
              "      <th>ProductId</th>\n",
              "      <th>UserId</th>\n",
              "      <th>ProfileName</th>\n",
              "      <th>HelpfulnessNumerator</th>\n",
              "      <th>HelpfulnessDenominator</th>\n",
              "      <th>Score</th>\n",
              "      <th>Time</th>\n",
              "      <th>Summary</th>\n",
              "      <th>Text</th>\n",
              "    </tr>\n",
              "  </thead>\n",
              "  <tbody>\n",
              "    <tr>\n",
              "      <th>0</th>\n",
              "      <td>B001E4KFG0</td>\n",
              "      <td>A3SGXH7AUHU8GW</td>\n",
              "      <td>delmartian</td>\n",
              "      <td>1</td>\n",
              "      <td>1</td>\n",
              "      <td>5</td>\n",
              "      <td>1303862400</td>\n",
              "      <td>Good Quality Dog Food</td>\n",
              "      <td>I have bought several of the Vitality canned d...</td>\n",
              "    </tr>\n",
              "    <tr>\n",
              "      <th>1</th>\n",
              "      <td>B00813GRG4</td>\n",
              "      <td>A1D87F6ZCVE5NK</td>\n",
              "      <td>dll pa</td>\n",
              "      <td>0</td>\n",
              "      <td>0</td>\n",
              "      <td>1</td>\n",
              "      <td>1346976000</td>\n",
              "      <td>Not as Advertised</td>\n",
              "      <td>Product arrived labeled as Jumbo Salted Peanut...</td>\n",
              "    </tr>\n",
              "    <tr>\n",
              "      <th>2</th>\n",
              "      <td>B000LQOCH0</td>\n",
              "      <td>ABXLMWJIXXAIN</td>\n",
              "      <td>Natalia Corres \"Natalia Corres\"</td>\n",
              "      <td>1</td>\n",
              "      <td>1</td>\n",
              "      <td>4</td>\n",
              "      <td>1219017600</td>\n",
              "      <td>\"Delight\" says it all</td>\n",
              "      <td>This is a confection that has been around a fe...</td>\n",
              "    </tr>\n",
              "  </tbody>\n",
              "</table>\n",
              "</div>"
            ],
            "text/plain": [
              "    ProductId  ...                                               Text\n",
              "0  B001E4KFG0  ...  I have bought several of the Vitality canned d...\n",
              "1  B00813GRG4  ...  Product arrived labeled as Jumbo Salted Peanut...\n",
              "2  B000LQOCH0  ...  This is a confection that has been around a fe...\n",
              "\n",
              "[3 rows x 9 columns]"
            ]
          },
          "metadata": {
            "tags": []
          },
          "execution_count": 4
        }
      ]
    },
    {
      "cell_type": "code",
      "metadata": {
        "colab": {
          "base_uri": "https://localhost:8080/",
          "height": 391
        },
        "id": "GsTBthTZDt2Y",
        "outputId": "966a41f0-79d0-4a16-e47b-f6401cc707cc"
      },
      "source": [
        "## Getting the number of words by splitting them by a space\n",
        "words_per_review = customer_reviews.Text.apply(lambda x: len(x.split(\" \")))\n",
        "#new_df = df.apply(lambda x : len(x.split(\" \")))\n",
        "words_per_review.hist(bins = 100)\n",
        "plt.xlabel('Review Length (words)')\n",
        "plt.ylabel('Frequency')\n",
        "plt.show()"
      ],
      "execution_count": 5,
      "outputs": [
        {
          "output_type": "display_data",
          "data": {
            "image/png": "[encoded data removed]",
            "text/plain": [
              "<Figure size 1008x432 with 1 Axes>"
            ]
          },
          "metadata": {
            "tags": []
          }
        }
      ]
    },
    {
      "cell_type": "code",
      "metadata": {
        "colab": {
          "base_uri": "https://localhost:8080/"
        },
        "id": "SfvVOYgSDt2Y",
        "scrolled": true,
        "outputId": "f0e9e832-1300-46b0-e2e7-4bf7e0999678"
      },
      "source": [
        "print('Average words:', words_per_review.mean())\n",
        "print('Skewness:', words_per_review.skew())"
      ],
      "execution_count": 6,
      "outputs": [
        {
          "output_type": "stream",
          "text": [
            "Average words: 77.9028\n",
            "Skewness: 4.612459483340116\n"
          ],
          "name": "stdout"
        }
      ]
    },
    {
      "cell_type": "markdown",
      "metadata": {
        "id": "nQ2wvFlIDt2Y"
      },
      "source": [
        "Words per user review is highly skewed with mean of 77, which means that on average, user reviews have 77 words."
      ]
    },
    {
      "cell_type": "code",
      "metadata": {
        "colab": {
          "base_uri": "https://localhost:8080/"
        },
        "id": "ms4EdMuSDt2Z",
        "scrolled": false,
        "outputId": "ca436aaa-c768-481a-98e5-5dc049491859"
      },
      "source": [
        "percent_val = 100 * customer_reviews['Score'].value_counts()/len(customer_reviews)\n",
        "percent_val"
      ],
      "execution_count": 7,
      "outputs": [
        {
          "output_type": "execute_result",
          "data": {
            "text/plain": [
              "5    61.83\n",
              "4    14.33\n",
              "1     9.32\n",
              "3     8.62\n",
              "2     5.90\n",
              "Name: Score, dtype: float64"
            ]
          },
          "metadata": {
            "tags": []
          },
          "execution_count": 7
        }
      ]
    },
    {
      "cell_type": "code",
      "metadata": {
        "colab": {
          "base_uri": "https://localhost:8080/",
          "height": 370
        },
        "id": "eCH88cwnDt2Z",
        "outputId": "38c37bc1-7bcb-40cc-fc40-88fa2a601dd9"
      },
      "source": [
        "percent_val.plot.bar()\n",
        "plt.show()"
      ],
      "execution_count": 8,
      "outputs": [
        {
          "output_type": "display_data",
          "data": {
            "image/png": "[encoded data removed]",
            "text/plain": [
              "<Figure size 1008x432 with 1 Axes>"
            ]
          },
          "metadata": {
            "tags": []
          }
        }
      ]
    },
    {
      "cell_type": "markdown",
      "metadata": {
        "id": "GKqlA0TyDt2Z"
      },
      "source": [
        "The distribution is quite skewed, with a giant number of 5s and very few 3s, 2s, and 1s. As seen, there is a class imbalance."
      ]
    },
    {
      "cell_type": "code",
      "metadata": {
        "colab": {
          "base_uri": "https://localhost:8080/",
          "height": 357
        },
        "id": "nxzi6tKLDt2Z",
        "outputId": "699678d1-4613-4621-94fe-d249998e2be8"
      },
      "source": [
        "word_cloud_text = ''.join(customer_reviews['Text'])\n",
        "\n",
        "wordcloud = WordCloud(max_font_size=100, # Maximum font size for the largest word\n",
        "                      max_words=100, # The maximum number of words\n",
        "                      background_color=\"white\", # Background color for the word cloud image\n",
        "                      scale = 10, # Scaling between computation and drawing\n",
        "                      width=800, # Width of the canvas\n",
        "                      height=400 # Height of the canvas\n",
        "                     ).generate(word_cloud_text)\n",
        "\n",
        "plt.figure()\n",
        "plt.imshow(wordcloud, \n",
        "           interpolation=\"bilinear\") # to make the displayed image appear more smoothly\n",
        "plt.axis(\"off\")\n",
        "plt.show()"
      ],
      "execution_count": 9,
      "outputs": [
        {
          "output_type": "display_data",
          "data": {
            "image/png": "[encoded data removed]",
            "text/plain": [
              "<Figure size 1008x432 with 1 Axes>"
            ]
          },
          "metadata": {
            "tags": []
          }
        }
      ]
    },
    {
      "cell_type": "markdown",
      "metadata": {
        "id": "BbCF7HdtDt2Z"
      },
      "source": [
        "The word cloud indicates that many of the reviews talk about food-related things - coffee, flavor, food, taste, drink. We also see some positive words like great,good, love, best."
      ]
    },
    {
      "cell_type": "markdown",
      "metadata": {
        "id": "fOnFuEXXjE7W"
      },
      "source": [
        "#Applying oversampling techniques to deal with data imbalance."
      ]
    },
    {
      "cell_type": "code",
      "metadata": {
        "colab": {
          "base_uri": "https://localhost:8080/"
        },
        "id": "IDozb1Yi391X",
        "outputId": "cac90285-b999-4eac-8e6c-ba50a83e2611"
      },
      "source": [
        "from sklearn.utils import resample\n",
        "# separate minority and majority classes\n",
        "Rating_5       = customer_reviews[customer_reviews.Score==5]\n",
        "Rating_4       = customer_reviews[customer_reviews.Score==4]\n",
        "Rating_3       = customer_reviews[customer_reviews.Score==3]\n",
        "Rating_2       = customer_reviews[customer_reviews.Score==2]\n",
        "Rating_1       = customer_reviews[customer_reviews.Score==1]\n",
        "\n",
        "\n",
        "list_Score=[Rating_1, Rating_2, Rating_3,Rating_4, Rating_5]\n",
        "# Get a class count to understand the class imbalance.\n",
        "for i in range(0,5):\n",
        "    print('Score:{} - score count: '.format(i+1) + str(len(list_Score[i])))"
      ],
      "execution_count": 10,
      "outputs": [
        {
          "output_type": "stream",
          "text": [
            "Score:1 - score count: 932\n",
            "Score:2 - score count: 590\n",
            "Score:3 - score count: 862\n",
            "Score:4 - score count: 1433\n",
            "Score:5 - score count: 6183\n"
          ],
          "name": "stdout"
        }
      ]
    },
    {
      "cell_type": "code",
      "metadata": {
        "id": "MoH66g4F3-Jn"
      },
      "source": [
        "# upsample minority\n",
        "def upsample(minority):\n",
        "    df= resample(minority,replace=True, n_samples=len(Rating_5), random_state=23) # reproducible results\n",
        "    return df\n",
        "\n",
        " \n",
        "# using the upsample function to obtain upsampled data\n",
        "upsampled_1=upsample(Rating_1)\n",
        "upsampled_2=upsample(Rating_2)\n",
        "upsampled_3=upsample(Rating_3)\n",
        "upsampled_4=upsample(Rating_4)\n"
      ],
      "execution_count": 11,
      "outputs": []
    },
    {
      "cell_type": "code",
      "metadata": {
        "colab": {
          "base_uri": "https://localhost:8080/"
        },
        "id": "yxbe3wij3-ST",
        "outputId": "d8884921-4e72-4bd9-dcfc-3664d41c9db6"
      },
      "source": [
        "# combine majority and upsampled minority\n",
        "upsampled= pd.concat([upsampled_1,upsampled_2, upsampled_3, upsampled_4, Rating_5])\n",
        "# check new class counts\n",
        "upsampled.Score.value_counts()"
      ],
      "execution_count": 12,
      "outputs": [
        {
          "output_type": "execute_result",
          "data": {
            "text/plain": [
              "5    6183\n",
              "4    6183\n",
              "3    6183\n",
              "2    6183\n",
              "1    6183\n",
              "Name: Score, dtype: int64"
            ]
          },
          "metadata": {
            "tags": []
          },
          "execution_count": 12
        }
      ]
    },
    {
      "cell_type": "markdown",
      "metadata": {
        "id": "cNew0HY1Dt2a"
      },
      "source": [
        "For the purposes of sentiment analysis:\n",
        "- Ratings of 4 or 5 will get mapped to 1 and will be related to positive reviews\n",
        "- Ratings of 1 or 2 will get mapped to 0 and will be related to negative reviews\n",
        "- Ratings of 3 will get removed since they will represent neutral reviews."
      ]
    },
    {
      "cell_type": "code",
      "metadata": {
        "colab": {
          "base_uri": "https://localhost:8080/"
        },
        "id": "Qk9HYpnqatNE",
        "outputId": "abb0c155-e375-48a3-eada-d6091ad79b04"
      },
      "source": [
        "# Mapping the ratings\n",
        "#customer_reviews['Sentiment_rating'] = np.where(customer_reviews.Score > 3,1,0)\n",
        "#customer_reviews['Sentiment_rating'].value_counts()\n",
        "upsampled['Sentiment_rating'] = np.where(upsampled.Score > 3,1,0)\n",
        "upsampled['Sentiment_rating'].value_counts()\n",
        "\n",
        "## Removing neutral reviews \n",
        "upsampled = upsampled[upsampled.Score != 3]\n",
        "\n",
        "# Printing the counts of each class\n",
        "upsampled['Sentiment_rating'].value_counts()"
      ],
      "execution_count": 13,
      "outputs": [
        {
          "output_type": "execute_result",
          "data": {
            "text/plain": [
              "1    12366\n",
              "0    12366\n",
              "Name: Sentiment_rating, dtype: int64"
            ]
          },
          "metadata": {
            "tags": []
          },
          "execution_count": 13
        }
      ]
    },
    {
      "cell_type": "code",
      "metadata": {
        "colab": {
          "base_uri": "https://localhost:8080/",
          "height": 370
        },
        "id": "fnydKa7ZDt2a",
        "scrolled": false,
        "outputId": "406267bc-135e-44a1-95ef-a52e88f98bc9"
      },
      "source": [
        "upsampled.Sentiment_rating.value_counts().plot.bar()\n",
        "plt.show()"
      ],
      "execution_count": 14,
      "outputs": [
        {
          "output_type": "display_data",
          "data": {
            "image/png": "[encoded data removed]",
            "text/plain": [
              "<Figure size 1008x432 with 1 Axes>"
            ]
          },
          "metadata": {
            "tags": []
          }
        }
      ]
    },
    {
      "cell_type": "markdown",
      "metadata": {
        "id": "yffmFzRXDt2a"
      },
      "source": [
        "Both classes are now balanced as seen."
      ]
    },
    {
      "cell_type": "markdown",
      "metadata": {
        "id": "oco960MaDt2a"
      },
      "source": [
        "#Pre-processing\n",
        "\n",
        "1. Converting words to lower/upper case\n",
        "2. Removing special characters\n",
        "3. Removing stopwords and high/low-frequency words\n",
        "4. Stemming/lemmatization\n",
        "\n"
      ]
    },
    {
      "cell_type": "code",
      "metadata": {
        "id": "UAZg7E1XDt2a"
      },
      "source": [
        "#1. Converting words to lower case\n",
        "upsampled['reviews_text_new'] = upsampled['Text'].str.lower()"
      ],
      "execution_count": 15,
      "outputs": []
    },
    {
      "cell_type": "code",
      "metadata": {
        "colab": {
          "base_uri": "https://localhost:8080/"
        },
        "id": "b_aBt8-9Dt2b",
        "outputId": "e8d96fc2-ac19-4143-c442-647d0dc5056a"
      },
      "source": [
        "from nltk import word_tokenize\n",
        "# For reviews not converted to lower case\n",
        "token_lists = [word_tokenize(each) for each in upsampled['Text']]\n",
        "tokens = [item for sublist in token_lists for item in sublist]\n",
        "print(\"Number of unique tokens then: \",len(set(tokens)))\n",
        "\n",
        "# For reviews converted to lower case\n",
        "token_lists_lower = [word_tokenize(each) for each in upsampled['reviews_text_new']]\n",
        "tokens_lower = [item for sublist in token_lists_lower for item in sublist]\n",
        "print(\"Number of unique tokens now: \",len(set(tokens_lower)))"
      ],
      "execution_count": 16,
      "outputs": [
        {
          "output_type": "stream",
          "text": [
            "Number of unique tokens then:  27876\n",
            "Number of unique tokens now:  22849\n"
          ],
          "name": "stdout"
        }
      ]
    },
    {
      "cell_type": "markdown",
      "metadata": {
        "id": "WAGUSjiiDt2b"
      },
      "source": [
        "The number of tokens has gone down by ~18% just from normalizing the corpus."
      ]
    },
    {
      "cell_type": "markdown",
      "metadata": {
        "id": "aS0gIcuZDt2b"
      },
      "source": [
        "### 2. Removing special characters"
      ]
    },
    {
      "cell_type": "code",
      "metadata": {
        "colab": {
          "base_uri": "https://localhost:8080/"
        },
        "id": "Bm4ELHcVDt2b",
        "scrolled": true,
        "outputId": "9a62cf6c-0dd2-4287-eab5-a8f32343c1c7"
      },
      "source": [
        "\n",
        "### Selecting non alpha numeric charactes that are not spaces\n",
        "spl_chars = upsampled['reviews_text_new'].apply(lambda review: \n",
        "                                                     [char for char in list(review) if not char.isalnum() and char != ' '])\n",
        "\n",
        "## Getting list of list into a single list\n",
        "flat_list = [item for sublist in spl_chars for item in sublist]\n",
        "\n",
        "## Unique special characters\n",
        "set(flat_list)\n"
      ],
      "execution_count": 17,
      "outputs": [
        {
          "output_type": "execute_result",
          "data": {
            "text/plain": [
              "{'!',\n",
              " '\"',\n",
              " '#',\n",
              " '$',\n",
              " '%',\n",
              " '&',\n",
              " \"'\",\n",
              " '(',\n",
              " ')',\n",
              " '*',\n",
              " '+',\n",
              " ',',\n",
              " '-',\n",
              " '.',\n",
              " '/',\n",
              " ':',\n",
              " ';',\n",
              " '<',\n",
              " '=',\n",
              " '>',\n",
              " '?',\n",
              " '@',\n",
              " '[',\n",
              " ']',\n",
              " '^',\n",
              " '_',\n",
              " '`',\n",
              " '{',\n",
              " '}',\n",
              " '~',\n",
              " '§',\n",
              " '®'}"
            ]
          },
          "metadata": {
            "tags": []
          },
          "execution_count": 17
        }
      ]
    },
    {
      "cell_type": "markdown",
      "metadata": {
        "id": "e-gTgW1sDt2b"
      },
      "source": [
        "Remove these special characters from the reviews by applying a regular expression:"
      ]
    },
    {
      "cell_type": "code",
      "metadata": {
        "id": "8enrtrVlDt2b"
      },
      "source": [
        "review_backup = upsampled['reviews_text_new'].copy()\n",
        "upsampled['reviews_text_new'] = upsampled['reviews_text_new'].str.replace(r'[^A-Za-z0-9 ]+', ' ')\n"
      ],
      "execution_count": 22,
      "outputs": []
    },
    {
      "cell_type": "markdown",
      "metadata": {
        "id": "YpLKDPzbDt2c"
      },
      "source": [
        "Decompose the regular expression `[^A-Za-z0-9 ]+`:\n",
        "- `[ ]`: match any character inside the list defined by the square brackets, including the space character `' '`\n",
        "- `^`: start of the line\n",
        "- `A-Z`: accept english upper case characters from A to Z\n",
        "- `a-z`: accept english lower case characters from a to z\n",
        "- `0-9`: accept single number characters from 0 to 9 **bold text**"
      ]
    },
    {
      "cell_type": "code",
      "metadata": {
        "colab": {
          "base_uri": "https://localhost:8080/"
        },
        "id": "dqEcu9B4Dt2c",
        "outputId": "0f336fcb-4efb-4f8a-c987-c74589ab002e"
      },
      "source": [
        "print(\"- Old Review -\")\n",
        "print(review_backup.values[6])\n",
        "print(\"\\n- New Review -\")\n",
        "print(upsampled['reviews_text_new'][6])"
      ],
      "execution_count": 23,
      "outputs": [
        {
          "output_type": "stream",
          "text": [
            "- Old Review -\n",
            "this tea didn't do anything, steal have issues with itching throat, ear and everything else. but i do enjoy the smell of it.. ill say it last up to a few hours and that's it.\n",
            "\n",
            "- New Review -\n",
            "this saltwater taffy had great flavors and was very soft and chewy   each candy was individually wrapped well   none of the candies were stuck together  which did happen in the expensive version  fralinger s   would highly recommend this candy   i served it at a beach themed party and everyone loved it \n"
          ],
          "name": "stdout"
        }
      ]
    },
    {
      "cell_type": "markdown",
      "metadata": {
        "id": "8Z845XRhDt2c"
      },
      "source": [
        "The number of unique tokens has dropped further:"
      ]
    },
    {
      "cell_type": "code",
      "metadata": {
        "colab": {
          "base_uri": "https://localhost:8080/"
        },
        "id": "qilRWk9iDt2c",
        "outputId": "0fe1aaaf-195f-4298-9ffc-6150c90605c9"
      },
      "source": [
        "token_lists = [word_tokenize(each) for each in upsampled['Text']]\n",
        "tokens = [item for sublist in token_lists for item in sublist]\n",
        "print(\"Number of unique tokens then: \",len(set(tokens)))\n",
        "\n",
        "token_lists = [word_tokenize(each) for each in upsampled['reviews_text_new']]\n",
        "tokens = [item for sublist in token_lists for item in sublist]\n",
        "print(\"Number of unique tokens now: \",len(set(tokens)))"
      ],
      "execution_count": 24,
      "outputs": [
        {
          "output_type": "stream",
          "text": [
            "Number of unique tokens then:  27876\n",
            "Number of unique tokens now:  18029\n"
          ],
          "name": "stdout"
        }
      ]
    },
    {
      "cell_type": "code",
      "metadata": {
        "colab": {
          "base_uri": "https://localhost:8080/"
        },
        "id": "jxm10EiHDt2c",
        "outputId": "36f106eb-7dec-4138-cda5-94f1d2453ef1"
      },
      "source": [
        "#3. Stopwords and high/low frequency words\n",
        "from nltk.corpus import stopwords\n",
        "nltk.download('stopwords')\n",
        "\n",
        "print('Available languages for NLTK v.3.4.5: ')\n",
        "print(stopwords.fileids())"
      ],
      "execution_count": 25,
      "outputs": [
        {
          "output_type": "stream",
          "text": [
            "[nltk_data] Downloading package stopwords to /root/nltk_data...\n",
            "[nltk_data]   Unzipping corpora/stopwords.zip.\n",
            "Available languages for NLTK v.3.4.5: \n",
            "['arabic', 'azerbaijani', 'danish', 'dutch', 'english', 'finnish', 'french', 'german', 'greek', 'hungarian', 'indonesian', 'italian', 'kazakh', 'nepali', 'norwegian', 'portuguese', 'romanian', 'russian', 'slovene', 'spanish', 'swedish', 'tajik', 'turkish']\n"
          ],
          "name": "stdout"
        }
      ]
    },
    {
      "cell_type": "code",
      "metadata": {
        "colab": {
          "base_uri": "https://localhost:8080/"
        },
        "id": "981hiXNFDt2c",
        "outputId": "737e7ed5-446e-451e-a5f4-c58f46d80a85"
      },
      "source": [
        "# review the list of English stopwords:\n",
        "noise_words = []\n",
        "eng_stop_words = stopwords.words('english')\n",
        "eng_stop_words"
      ],
      "execution_count": 26,
      "outputs": [
        {
          "output_type": "execute_result",
          "data": {
            "text/plain": [
              "['i',\n",
              " 'me',\n",
              " 'my',\n",
              " 'myself',\n",
              " 'we',\n",
              " 'our',\n",
              " 'ours',\n",
              " 'ourselves',\n",
              " 'you',\n",
              " \"you're\",\n",
              " \"you've\",\n",
              " \"you'll\",\n",
              " \"you'd\",\n",
              " 'your',\n",
              " 'yours',\n",
              " 'yourself',\n",
              " 'yourselves',\n",
              " 'he',\n",
              " 'him',\n",
              " 'his',\n",
              " 'himself',\n",
              " 'she',\n",
              " \"she's\",\n",
              " 'her',\n",
              " 'hers',\n",
              " 'herself',\n",
              " 'it',\n",
              " \"it's\",\n",
              " 'its',\n",
              " 'itself',\n",
              " 'they',\n",
              " 'them',\n",
              " 'their',\n",
              " 'theirs',\n",
              " 'themselves',\n",
              " 'what',\n",
              " 'which',\n",
              " 'who',\n",
              " 'whom',\n",
              " 'this',\n",
              " 'that',\n",
              " \"that'll\",\n",
              " 'these',\n",
              " 'those',\n",
              " 'am',\n",
              " 'is',\n",
              " 'are',\n",
              " 'was',\n",
              " 'were',\n",
              " 'be',\n",
              " 'been',\n",
              " 'being',\n",
              " 'have',\n",
              " 'has',\n",
              " 'had',\n",
              " 'having',\n",
              " 'do',\n",
              " 'does',\n",
              " 'did',\n",
              " 'doing',\n",
              " 'a',\n",
              " 'an',\n",
              " 'the',\n",
              " 'and',\n",
              " 'but',\n",
              " 'if',\n",
              " 'or',\n",
              " 'because',\n",
              " 'as',\n",
              " 'until',\n",
              " 'while',\n",
              " 'of',\n",
              " 'at',\n",
              " 'by',\n",
              " 'for',\n",
              " 'with',\n",
              " 'about',\n",
              " 'against',\n",
              " 'between',\n",
              " 'into',\n",
              " 'through',\n",
              " 'during',\n",
              " 'before',\n",
              " 'after',\n",
              " 'above',\n",
              " 'below',\n",
              " 'to',\n",
              " 'from',\n",
              " 'up',\n",
              " 'down',\n",
              " 'in',\n",
              " 'out',\n",
              " 'on',\n",
              " 'off',\n",
              " 'over',\n",
              " 'under',\n",
              " 'again',\n",
              " 'further',\n",
              " 'then',\n",
              " 'once',\n",
              " 'here',\n",
              " 'there',\n",
              " 'when',\n",
              " 'where',\n",
              " 'why',\n",
              " 'how',\n",
              " 'all',\n",
              " 'any',\n",
              " 'both',\n",
              " 'each',\n",
              " 'few',\n",
              " 'more',\n",
              " 'most',\n",
              " 'other',\n",
              " 'some',\n",
              " 'such',\n",
              " 'no',\n",
              " 'nor',\n",
              " 'not',\n",
              " 'only',\n",
              " 'own',\n",
              " 'same',\n",
              " 'so',\n",
              " 'than',\n",
              " 'too',\n",
              " 'very',\n",
              " 's',\n",
              " 't',\n",
              " 'can',\n",
              " 'will',\n",
              " 'just',\n",
              " 'don',\n",
              " \"don't\",\n",
              " 'should',\n",
              " \"should've\",\n",
              " 'now',\n",
              " 'd',\n",
              " 'll',\n",
              " 'm',\n",
              " 'o',\n",
              " 're',\n",
              " 've',\n",
              " 'y',\n",
              " 'ain',\n",
              " 'aren',\n",
              " \"aren't\",\n",
              " 'couldn',\n",
              " \"couldn't\",\n",
              " 'didn',\n",
              " \"didn't\",\n",
              " 'doesn',\n",
              " \"doesn't\",\n",
              " 'hadn',\n",
              " \"hadn't\",\n",
              " 'hasn',\n",
              " \"hasn't\",\n",
              " 'haven',\n",
              " \"haven't\",\n",
              " 'isn',\n",
              " \"isn't\",\n",
              " 'ma',\n",
              " 'mightn',\n",
              " \"mightn't\",\n",
              " 'mustn',\n",
              " \"mustn't\",\n",
              " 'needn',\n",
              " \"needn't\",\n",
              " 'shan',\n",
              " \"shan't\",\n",
              " 'shouldn',\n",
              " \"shouldn't\",\n",
              " 'wasn',\n",
              " \"wasn't\",\n",
              " 'weren',\n",
              " \"weren't\",\n",
              " 'won',\n",
              " \"won't\",\n",
              " 'wouldn',\n",
              " \"wouldn't\"]"
            ]
          },
          "metadata": {
            "tags": []
          },
          "execution_count": 26
        }
      ]
    },
    {
      "cell_type": "code",
      "metadata": {
        "colab": {
          "base_uri": "https://localhost:8080/"
        },
        "id": "2XptY6vFDt2c",
        "outputId": "48bb6d00-cc4d-4ef8-e394-b86065e47de1"
      },
      "source": [
        "#removing stopwords:\n",
        "stop_words = set(eng_stop_words)\n",
        "without_stop_words = []\n",
        "stopword = []\n",
        "sentence = upsampled['reviews_text_new'][0]\n",
        "words = nltk.word_tokenize(sentence)\n",
        "\n",
        "for word in words:\n",
        "    if word in stop_words:\n",
        "        stopword.append(word)\n",
        "    else:\n",
        "        without_stop_words.append(word)\n",
        "\n",
        "print('-- Original Sentence --\\n', sentence)\n",
        "print('\\n-- Stopwords in the sentence --\\n', stopword)\n",
        "print('\\n-- Non-stopwords in the sentence --\\n', without_stop_words)"
      ],
      "execution_count": 27,
      "outputs": [
        {
          "output_type": "stream",
          "text": [
            "-- Original Sentence --\n",
            " i have bought several of the vitality canned dog food products and have found them all to be of good quality  the product looks more like a stew than a processed meat and it smells better  my labrador is finicky and she appreciates this product better than  most \n",
            "\n",
            "-- Stopwords in the sentence --\n",
            " ['i', 'have', 'of', 'the', 'and', 'have', 'them', 'all', 'to', 'be', 'of', 'the', 'more', 'a', 'than', 'a', 'and', 'it', 'my', 'is', 'and', 'she', 'this', 'than', 'most']\n",
            "\n",
            "-- Non-stopwords in the sentence --\n",
            " ['bought', 'several', 'vitality', 'canned', 'dog', 'food', 'products', 'found', 'good', 'quality', 'product', 'looks', 'like', 'stew', 'processed', 'meat', 'smells', 'better', 'labrador', 'finicky', 'appreciates', 'product', 'better']\n"
          ],
          "name": "stdout"
        }
      ]
    },
    {
      "cell_type": "code",
      "metadata": {
        "colab": {
          "base_uri": "https://localhost:8080/",
          "height": 415
        },
        "id": "q6Dul9hZDt2d",
        "outputId": "25f1e6d6-1cba-4826-d699-63111f577393"
      },
      "source": [
        "#omit these stopwords from our reviews:\n",
        "def stopwords_removal(stop_words, sentence):\n",
        "    return [word for word in nltk.word_tokenize(sentence) if word not in stop_words]\n",
        "\n",
        "upsampled['reviews_text_nonstop'] = upsampled['reviews_text_new'].apply(lambda row: stopwords_removal(stop_words, row))\n",
        "upsampled[['reviews_text_new','reviews_text_nonstop']]"
      ],
      "execution_count": 28,
      "outputs": [
        {
          "output_type": "execute_result",
          "data": {
            "text/html": [
              "<div>\n",
              "<style scoped>\n",
              "    .dataframe tbody tr th:only-of-type {\n",
              "        vertical-align: middle;\n",
              "    }\n",
              "\n",
              "    .dataframe tbody tr th {\n",
              "        vertical-align: top;\n",
              "    }\n",
              "\n",
              "    .dataframe thead th {\n",
              "        text-align: right;\n",
              "    }\n",
              "</style>\n",
              "<table border=\"1\" class=\"dataframe\">\n",
              "  <thead>\n",
              "    <tr style=\"text-align: right;\">\n",
              "      <th></th>\n",
              "      <th>reviews_text_new</th>\n",
              "      <th>reviews_text_nonstop</th>\n",
              "    </tr>\n",
              "  </thead>\n",
              "  <tbody>\n",
              "    <tr>\n",
              "      <th>6433</th>\n",
              "      <td>skittles are a great candy but for this produc...</td>\n",
              "      <td>[skittles, great, candy, product, would, say, ...</td>\n",
              "    </tr>\n",
              "    <tr>\n",
              "      <th>8139</th>\n",
              "      <td>i was very unhappy when this package arrived a...</td>\n",
              "      <td>[unhappy, package, arrived, workplace, bags, w...</td>\n",
              "    </tr>\n",
              "    <tr>\n",
              "      <th>537</th>\n",
              "      <td>when originally produced in england  these we ...</td>\n",
              "      <td>[originally, produced, england, best, chips, e...</td>\n",
              "    </tr>\n",
              "    <tr>\n",
              "      <th>5093</th>\n",
              "      <td>first of all  somebody is chasing me around a...</td>\n",
              "      <td>[first, somebody, chasing, around, negging, re...</td>\n",
              "    </tr>\n",
              "    <tr>\n",
              "      <th>393</th>\n",
              "      <td>i haven t used the ham base  it is loaded with...</td>\n",
              "      <td>[used, ham, base, loaded, msg, realize, ordere...</td>\n",
              "    </tr>\n",
              "    <tr>\n",
              "      <th>...</th>\n",
              "      <td>...</td>\n",
              "      <td>...</td>\n",
              "    </tr>\n",
              "    <tr>\n",
              "      <th>9993</th>\n",
              "      <td>as far as i can tell  this is the only organic...</td>\n",
              "      <td>[far, tell, organic, ready, feed, formula, us,...</td>\n",
              "    </tr>\n",
              "    <tr>\n",
              "      <th>9994</th>\n",
              "      <td>i switched from similac advanced to organic wh...</td>\n",
              "      <td>[switched, similac, advanced, organic, daughte...</td>\n",
              "    </tr>\n",
              "    <tr>\n",
              "      <th>9996</th>\n",
              "      <td>like the bad reviews say  the organic formula ...</td>\n",
              "      <td>[like, bad, reviews, say, organic, formula, co...</td>\n",
              "    </tr>\n",
              "    <tr>\n",
              "      <th>9997</th>\n",
              "      <td>i wanted to solely breastfeed but was unable t...</td>\n",
              "      <td>[wanted, solely, breastfeed, unable, keep, sup...</td>\n",
              "    </tr>\n",
              "    <tr>\n",
              "      <th>9998</th>\n",
              "      <td>i love the fact that i can get this delieved t...</td>\n",
              "      <td>[love, fact, get, delieved, house, delievy, ch...</td>\n",
              "    </tr>\n",
              "  </tbody>\n",
              "</table>\n",
              "<p>24732 rows × 2 columns</p>\n",
              "</div>"
            ],
            "text/plain": [
              "                                       reviews_text_new                               reviews_text_nonstop\n",
              "6433  skittles are a great candy but for this produc...  [skittles, great, candy, product, would, say, ...\n",
              "8139  i was very unhappy when this package arrived a...  [unhappy, package, arrived, workplace, bags, w...\n",
              "537   when originally produced in england  these we ...  [originally, produced, england, best, chips, e...\n",
              "5093   first of all  somebody is chasing me around a...  [first, somebody, chasing, around, negging, re...\n",
              "393   i haven t used the ham base  it is loaded with...  [used, ham, base, loaded, msg, realize, ordere...\n",
              "...                                                 ...                                                ...\n",
              "9993  as far as i can tell  this is the only organic...  [far, tell, organic, ready, feed, formula, us,...\n",
              "9994  i switched from similac advanced to organic wh...  [switched, similac, advanced, organic, daughte...\n",
              "9996  like the bad reviews say  the organic formula ...  [like, bad, reviews, say, organic, formula, co...\n",
              "9997  i wanted to solely breastfeed but was unable t...  [wanted, solely, breastfeed, unable, keep, sup...\n",
              "9998  i love the fact that i can get this delieved t...  [love, fact, get, delieved, house, delievy, ch...\n",
              "\n",
              "[24732 rows x 2 columns]"
            ]
          },
          "metadata": {
            "tags": []
          },
          "execution_count": 28
        }
      ]
    },
    {
      "cell_type": "code",
      "metadata": {
        "colab": {
          "base_uri": "https://localhost:8080/"
        },
        "id": "MI2FF-ytDt2d",
        "outputId": "a238eb3d-8cc5-4e1b-9813-44e8f21f4e6d"
      },
      "source": [
        "from nltk.stem import PorterStemmer, LancasterStemmer # Common stemmers\n",
        "from nltk.stem import WordNetLemmatizer # Common Lematizer\n",
        "nltk.download('wordnet')\n",
        "from nltk.corpus import wordnet\n",
        "\n",
        "porter = PorterStemmer()\n",
        "lancaster = LancasterStemmer()\n",
        "lemmatizer = WordNetLemmatizer()"
      ],
      "execution_count": 29,
      "outputs": [
        {
          "output_type": "stream",
          "text": [
            "[nltk_data] Downloading package wordnet to /root/nltk_data...\n",
            "[nltk_data]   Unzipping corpora/wordnet.zip.\n"
          ],
          "name": "stdout"
        }
      ]
    },
    {
      "cell_type": "code",
      "metadata": {
        "colab": {
          "base_uri": "https://localhost:8080/"
        },
        "id": "Q9lyksATDt2d",
        "outputId": "76b80896-ab4e-45c3-bc93-a859eef8383b"
      },
      "source": [
        "print(\"Lancaster Stemmer\")\n",
        "print(lancaster.stem(\"trouble\"))\n",
        "print(lancaster.stem(\"troubling\"))\n",
        "print(lancaster.stem(\"troubled\"))\n",
        "\n",
        "# Provide a word to be lemmatized\n",
        "print(\"WordNet Lemmatizer\")\n",
        "print(lemmatizer.lemmatize(\"trouble\", wordnet.NOUN))\n",
        "print(lemmatizer.lemmatize(\"troubling\", wordnet.VERB))\n",
        "print(lemmatizer.lemmatize(\"troubled\", wordnet.VERB))"
      ],
      "execution_count": 30,
      "outputs": [
        {
          "output_type": "stream",
          "text": [
            "Lancaster Stemmer\n",
            "troubl\n",
            "troubl\n",
            "troubl\n",
            "WordNet Lemmatizer\n",
            "trouble\n",
            "trouble\n",
            "trouble\n"
          ],
          "name": "stdout"
        }
      ]
    },
    {
      "cell_type": "code",
      "metadata": {
        "colab": {
          "base_uri": "https://localhost:8080/",
          "height": 415
        },
        "id": "z24v5NHuDt2d",
        "outputId": "e4b868d4-6ead-40a3-a395-cc76c24bdb5e"
      },
      "source": [
        "def stemm_terms(row):\n",
        "    return [lancaster.stem(term) for term in row]\n",
        "def lemmatize_terms(row):\n",
        "    return [lemmatizer.lemmatize(term) for term in row]\n",
        "    \n",
        "upsampled['reviews_text_stemm'] = upsampled['reviews_text_nonstop'].apply(lambda row: stemm_terms(row))\n",
        "upsampled['reviews_text_lemm'] = upsampled['reviews_text_nonstop'].apply(lambda row: lemmatize_terms(row))\n",
        "upsampled[['reviews_text_nonstop','reviews_text_stemm','reviews_text_lemm']]"
      ],
      "execution_count": 31,
      "outputs": [
        {
          "output_type": "execute_result",
          "data": {
            "text/html": [
              "<div>\n",
              "<style scoped>\n",
              "    .dataframe tbody tr th:only-of-type {\n",
              "        vertical-align: middle;\n",
              "    }\n",
              "\n",
              "    .dataframe tbody tr th {\n",
              "        vertical-align: top;\n",
              "    }\n",
              "\n",
              "    .dataframe thead th {\n",
              "        text-align: right;\n",
              "    }\n",
              "</style>\n",
              "<table border=\"1\" class=\"dataframe\">\n",
              "  <thead>\n",
              "    <tr style=\"text-align: right;\">\n",
              "      <th></th>\n",
              "      <th>reviews_text_nonstop</th>\n",
              "      <th>reviews_text_stemm</th>\n",
              "      <th>reviews_text_lemm</th>\n",
              "    </tr>\n",
              "  </thead>\n",
              "  <tbody>\n",
              "    <tr>\n",
              "      <th>6433</th>\n",
              "      <td>[skittles, great, candy, product, would, say, ...</td>\n",
              "      <td>[skittl, gre, candy, produc, would, say, buy, ...</td>\n",
              "      <td>[skittle, great, candy, product, would, say, b...</td>\n",
              "    </tr>\n",
              "    <tr>\n",
              "      <th>8139</th>\n",
              "      <td>[unhappy, package, arrived, workplace, bags, w...</td>\n",
              "      <td>[unhappy, pack, ar, workplac, bag, wrap, ship,...</td>\n",
              "      <td>[unhappy, package, arrived, workplace, bag, wr...</td>\n",
              "    </tr>\n",
              "    <tr>\n",
              "      <th>537</th>\n",
              "      <td>[originally, produced, england, best, chips, e...</td>\n",
              "      <td>[origin, produc, england, best, chip, ev, tast...</td>\n",
              "      <td>[originally, produced, england, best, chip, ev...</td>\n",
              "    </tr>\n",
              "    <tr>\n",
              "      <th>5093</th>\n",
              "      <td>[first, somebody, chasing, around, negging, re...</td>\n",
              "      <td>[first, somebody, chas, around, neg, review, d...</td>\n",
              "      <td>[first, somebody, chasing, around, negging, re...</td>\n",
              "    </tr>\n",
              "    <tr>\n",
              "      <th>393</th>\n",
              "      <td>[used, ham, base, loaded, msg, realize, ordere...</td>\n",
              "      <td>[us, ham, bas, load, msg, real, ord, return, f...</td>\n",
              "      <td>[used, ham, base, loaded, msg, realize, ordere...</td>\n",
              "    </tr>\n",
              "    <tr>\n",
              "      <th>...</th>\n",
              "      <td>...</td>\n",
              "      <td>...</td>\n",
              "      <td>...</td>\n",
              "    </tr>\n",
              "    <tr>\n",
              "      <th>9993</th>\n",
              "      <td>[far, tell, organic, ready, feed, formula, us,...</td>\n",
              "      <td>[far, tel, org, ready, fee, formul, us, market...</td>\n",
              "      <td>[far, tell, organic, ready, feed, formula, u, ...</td>\n",
              "    </tr>\n",
              "    <tr>\n",
              "      <th>9994</th>\n",
              "      <td>[switched, similac, advanced, organic, daughte...</td>\n",
              "      <td>[switch, similac, adv, org, daught, 1, mon, ol...</td>\n",
              "      <td>[switched, similac, advanced, organic, daughte...</td>\n",
              "    </tr>\n",
              "    <tr>\n",
              "      <th>9996</th>\n",
              "      <td>[like, bad, reviews, say, organic, formula, co...</td>\n",
              "      <td>[lik, bad, review, say, org, formul, constip, ...</td>\n",
              "      <td>[like, bad, review, say, organic, formula, con...</td>\n",
              "    </tr>\n",
              "    <tr>\n",
              "      <th>9997</th>\n",
              "      <td>[wanted, solely, breastfeed, unable, keep, sup...</td>\n",
              "      <td>[want, sol, breastfee, un, keep, suppl, formul...</td>\n",
              "      <td>[wanted, solely, breastfeed, unable, keep, sup...</td>\n",
              "    </tr>\n",
              "    <tr>\n",
              "      <th>9998</th>\n",
              "      <td>[love, fact, get, delieved, house, delievy, ch...</td>\n",
              "      <td>[lov, fact, get, deliev, hous, delievy, charg,...</td>\n",
              "      <td>[love, fact, get, delieved, house, delievy, ch...</td>\n",
              "    </tr>\n",
              "  </tbody>\n",
              "</table>\n",
              "<p>24732 rows × 3 columns</p>\n",
              "</div>"
            ],
            "text/plain": [
              "                                   reviews_text_nonstop  ...                                  reviews_text_lemm\n",
              "6433  [skittles, great, candy, product, would, say, ...  ...  [skittle, great, candy, product, would, say, b...\n",
              "8139  [unhappy, package, arrived, workplace, bags, w...  ...  [unhappy, package, arrived, workplace, bag, wr...\n",
              "537   [originally, produced, england, best, chips, e...  ...  [originally, produced, england, best, chip, ev...\n",
              "5093  [first, somebody, chasing, around, negging, re...  ...  [first, somebody, chasing, around, negging, re...\n",
              "393   [used, ham, base, loaded, msg, realize, ordere...  ...  [used, ham, base, loaded, msg, realize, ordere...\n",
              "...                                                 ...  ...                                                ...\n",
              "9993  [far, tell, organic, ready, feed, formula, us,...  ...  [far, tell, organic, ready, feed, formula, u, ...\n",
              "9994  [switched, similac, advanced, organic, daughte...  ...  [switched, similac, advanced, organic, daughte...\n",
              "9996  [like, bad, reviews, say, organic, formula, co...  ...  [like, bad, review, say, organic, formula, con...\n",
              "9997  [wanted, solely, breastfeed, unable, keep, sup...  ...  [wanted, solely, breastfeed, unable, keep, sup...\n",
              "9998  [love, fact, get, delieved, house, delievy, ch...  ...  [love, fact, get, delieved, house, delievy, ch...\n",
              "\n",
              "[24732 rows x 3 columns]"
            ]
          },
          "metadata": {
            "tags": []
          },
          "execution_count": 31
        }
      ]
    },
    {
      "cell_type": "markdown",
      "metadata": {
        "id": "8EllQO5bDt2d"
      },
      "source": [
        "The actual review text and its corresponding sentiment rating:"
      ]
    },
    {
      "cell_type": "code",
      "metadata": {
        "colab": {
          "base_uri": "https://localhost:8080/",
          "height": 202
        },
        "id": "g27sJZZxDt2e",
        "outputId": "dec535c2-45aa-455a-c92c-53fdb56462bd"
      },
      "source": [
        "upsampled[['Text','Score','Sentiment_rating']].head(5)"
      ],
      "execution_count": 32,
      "outputs": [
        {
          "output_type": "execute_result",
          "data": {
            "text/html": [
              "<div>\n",
              "<style scoped>\n",
              "    .dataframe tbody tr th:only-of-type {\n",
              "        vertical-align: middle;\n",
              "    }\n",
              "\n",
              "    .dataframe tbody tr th {\n",
              "        vertical-align: top;\n",
              "    }\n",
              "\n",
              "    .dataframe thead th {\n",
              "        text-align: right;\n",
              "    }\n",
              "</style>\n",
              "<table border=\"1\" class=\"dataframe\">\n",
              "  <thead>\n",
              "    <tr style=\"text-align: right;\">\n",
              "      <th></th>\n",
              "      <th>Text</th>\n",
              "      <th>Score</th>\n",
              "      <th>Sentiment_rating</th>\n",
              "    </tr>\n",
              "  </thead>\n",
              "  <tbody>\n",
              "    <tr>\n",
              "      <th>6433</th>\n",
              "      <td>Skittles are a great candy but for this produc...</td>\n",
              "      <td>1</td>\n",
              "      <td>0</td>\n",
              "    </tr>\n",
              "    <tr>\n",
              "      <th>8139</th>\n",
              "      <td>I was very unhappy when this package arrived a...</td>\n",
              "      <td>1</td>\n",
              "      <td>0</td>\n",
              "    </tr>\n",
              "    <tr>\n",
              "      <th>537</th>\n",
              "      <td>When originally produced in England  these we'...</td>\n",
              "      <td>1</td>\n",
              "      <td>0</td>\n",
              "    </tr>\n",
              "    <tr>\n",
              "      <th>5093</th>\n",
              "      <td>(First of all, somebody is chasing me around a...</td>\n",
              "      <td>1</td>\n",
              "      <td>0</td>\n",
              "    </tr>\n",
              "    <tr>\n",
              "      <th>393</th>\n",
              "      <td>I haven't used the ham base. It is loaded with...</td>\n",
              "      <td>1</td>\n",
              "      <td>0</td>\n",
              "    </tr>\n",
              "  </tbody>\n",
              "</table>\n",
              "</div>"
            ],
            "text/plain": [
              "                                                   Text  ...  Sentiment_rating\n",
              "6433  Skittles are a great candy but for this produc...  ...                 0\n",
              "8139  I was very unhappy when this package arrived a...  ...                 0\n",
              "537   When originally produced in England  these we'...  ...                 0\n",
              "5093  (First of all, somebody is chasing me around a...  ...                 0\n",
              "393   I haven't used the ham base. It is loaded with...  ...                 0\n",
              "\n",
              "[5 rows x 3 columns]"
            ]
          },
          "metadata": {
            "tags": []
          },
          "execution_count": 32
        }
      ]
    },
    {
      "cell_type": "code",
      "metadata": {
        "colab": {
          "base_uri": "https://localhost:8080/"
        },
        "id": "Lucv2v92Dt2e",
        "outputId": "c87de978-cd42-467d-c996-3478c21332d0"
      },
      "source": [
        "from nltk import ngrams\n",
        "\n",
        "sentence = 'A bird in the hand worths two in the bush'\n",
        "\n",
        "for n in range(1, 6):\n",
        "    print(str(n) + '-grams:\\n', list(ngrams(sentence.split(), n)))"
      ],
      "execution_count": 33,
      "outputs": [
        {
          "output_type": "stream",
          "text": [
            "1-grams:\n",
            " [('A',), ('bird',), ('in',), ('the',), ('hand',), ('worths',), ('two',), ('in',), ('the',), ('bush',)]\n",
            "2-grams:\n",
            " [('A', 'bird'), ('bird', 'in'), ('in', 'the'), ('the', 'hand'), ('hand', 'worths'), ('worths', 'two'), ('two', 'in'), ('in', 'the'), ('the', 'bush')]\n",
            "3-grams:\n",
            " [('A', 'bird', 'in'), ('bird', 'in', 'the'), ('in', 'the', 'hand'), ('the', 'hand', 'worths'), ('hand', 'worths', 'two'), ('worths', 'two', 'in'), ('two', 'in', 'the'), ('in', 'the', 'bush')]\n",
            "4-grams:\n",
            " [('A', 'bird', 'in', 'the'), ('bird', 'in', 'the', 'hand'), ('in', 'the', 'hand', 'worths'), ('the', 'hand', 'worths', 'two'), ('hand', 'worths', 'two', 'in'), ('worths', 'two', 'in', 'the'), ('two', 'in', 'the', 'bush')]\n",
            "5-grams:\n",
            " [('A', 'bird', 'in', 'the', 'hand'), ('bird', 'in', 'the', 'hand', 'worths'), ('in', 'the', 'hand', 'worths', 'two'), ('the', 'hand', 'worths', 'two', 'in'), ('hand', 'worths', 'two', 'in', 'the'), ('worths', 'two', 'in', 'the', 'bush')]\n"
          ],
          "name": "stdout"
        }
      ]
    },
    {
      "cell_type": "markdown",
      "metadata": {
        "id": "Bos3FueXDt2e"
      },
      "source": [
        "# Bag-of-words"
      ]
    },
    {
      "cell_type": "code",
      "metadata": {
        "colab": {
          "base_uri": "https://localhost:8080/",
          "height": 251
        },
        "id": "wl1cs0uZDt2e",
        "outputId": "19c66170-f621-4110-ec42-31770d402c2d"
      },
      "source": [
        "# The following code creates a word-document matrix.\n",
        "from sklearn.feature_extraction.text import CountVectorizer\n",
        "\n",
        "vec = CountVectorizer()\n",
        "X = vec.fit_transform(upsampled['reviews_text_new'])\n",
        "df = pd.DataFrame(X.toarray(), columns = vec.get_feature_names())\n",
        "df.head()"
      ],
      "execution_count": 34,
      "outputs": [
        {
          "output_type": "execute_result",
          "data": {
            "text/html": [
              "<div>\n",
              "<style scoped>\n",
              "    .dataframe tbody tr th:only-of-type {\n",
              "        vertical-align: middle;\n",
              "    }\n",
              "\n",
              "    .dataframe tbody tr th {\n",
              "        vertical-align: top;\n",
              "    }\n",
              "\n",
              "    .dataframe thead th {\n",
              "        text-align: right;\n",
              "    }\n",
              "</style>\n",
              "<table border=\"1\" class=\"dataframe\">\n",
              "  <thead>\n",
              "    <tr style=\"text-align: right;\">\n",
              "      <th></th>\n",
              "      <th>00</th>\n",
              "      <th>000</th>\n",
              "      <th>0003</th>\n",
              "      <th>000kwh</th>\n",
              "      <th>002</th>\n",
              "      <th>008</th>\n",
              "      <th>0100</th>\n",
              "      <th>0174</th>\n",
              "      <th>02</th>\n",
              "      <th>03</th>\n",
              "      <th>0303</th>\n",
              "      <th>032</th>\n",
              "      <th>03510</th>\n",
              "      <th>04</th>\n",
              "      <th>042608460503</th>\n",
              "      <th>0472066978</th>\n",
              "      <th>04830</th>\n",
              "      <th>05</th>\n",
              "      <th>06</th>\n",
              "      <th>062</th>\n",
              "      <th>07</th>\n",
              "      <th>0738551856</th>\n",
              "      <th>09</th>\n",
              "      <th>090</th>\n",
              "      <th>0g</th>\n",
              "      <th>0mg</th>\n",
              "      <th>0xk6hzpjrkaed855hewp</th>\n",
              "      <th>0z</th>\n",
              "      <th>10</th>\n",
              "      <th>100</th>\n",
              "      <th>1000</th>\n",
              "      <th>100ml</th>\n",
              "      <th>100s</th>\n",
              "      <th>100x</th>\n",
              "      <th>101</th>\n",
              "      <th>103</th>\n",
              "      <th>105</th>\n",
              "      <th>108</th>\n",
              "      <th>10g</th>\n",
              "      <th>10lb</th>\n",
              "      <th>...</th>\n",
              "      <th>zany</th>\n",
              "      <th>zap</th>\n",
              "      <th>zapp</th>\n",
              "      <th>zareba</th>\n",
              "      <th>zeal</th>\n",
              "      <th>zealand</th>\n",
              "      <th>zen</th>\n",
              "      <th>zero</th>\n",
              "      <th>zest</th>\n",
              "      <th>zesty</th>\n",
              "      <th>zevia</th>\n",
              "      <th>zhena</th>\n",
              "      <th>zico</th>\n",
              "      <th>ziggies</th>\n",
              "      <th>zilch</th>\n",
              "      <th>zin</th>\n",
              "      <th>zinc</th>\n",
              "      <th>zinfandels</th>\n",
              "      <th>zing</th>\n",
              "      <th>zinging</th>\n",
              "      <th>zip</th>\n",
              "      <th>ziploc</th>\n",
              "      <th>ziplock</th>\n",
              "      <th>zipper</th>\n",
              "      <th>zippy</th>\n",
              "      <th>zito</th>\n",
              "      <th>ziwipeak</th>\n",
              "      <th>zn</th>\n",
              "      <th>zojirushi</th>\n",
              "      <th>zola</th>\n",
              "      <th>zomg</th>\n",
              "      <th>zon</th>\n",
              "      <th>zoo</th>\n",
              "      <th>zoom</th>\n",
              "      <th>zotz</th>\n",
              "      <th>zucchini</th>\n",
              "      <th>zuke</th>\n",
              "      <th>zukes</th>\n",
              "      <th>zupas</th>\n",
              "      <th>zuppa</th>\n",
              "    </tr>\n",
              "  </thead>\n",
              "  <tbody>\n",
              "    <tr>\n",
              "      <th>0</th>\n",
              "      <td>0</td>\n",
              "      <td>0</td>\n",
              "      <td>0</td>\n",
              "      <td>0</td>\n",
              "      <td>0</td>\n",
              "      <td>0</td>\n",
              "      <td>0</td>\n",
              "      <td>0</td>\n",
              "      <td>0</td>\n",
              "      <td>0</td>\n",
              "      <td>0</td>\n",
              "      <td>0</td>\n",
              "      <td>0</td>\n",
              "      <td>0</td>\n",
              "      <td>0</td>\n",
              "      <td>0</td>\n",
              "      <td>0</td>\n",
              "      <td>0</td>\n",
              "      <td>0</td>\n",
              "      <td>0</td>\n",
              "      <td>0</td>\n",
              "      <td>0</td>\n",
              "      <td>0</td>\n",
              "      <td>0</td>\n",
              "      <td>0</td>\n",
              "      <td>0</td>\n",
              "      <td>0</td>\n",
              "      <td>0</td>\n",
              "      <td>0</td>\n",
              "      <td>0</td>\n",
              "      <td>0</td>\n",
              "      <td>0</td>\n",
              "      <td>0</td>\n",
              "      <td>0</td>\n",
              "      <td>0</td>\n",
              "      <td>0</td>\n",
              "      <td>0</td>\n",
              "      <td>0</td>\n",
              "      <td>0</td>\n",
              "      <td>0</td>\n",
              "      <td>...</td>\n",
              "      <td>0</td>\n",
              "      <td>0</td>\n",
              "      <td>0</td>\n",
              "      <td>0</td>\n",
              "      <td>0</td>\n",
              "      <td>0</td>\n",
              "      <td>0</td>\n",
              "      <td>0</td>\n",
              "      <td>0</td>\n",
              "      <td>0</td>\n",
              "      <td>0</td>\n",
              "      <td>0</td>\n",
              "      <td>0</td>\n",
              "      <td>0</td>\n",
              "      <td>0</td>\n",
              "      <td>0</td>\n",
              "      <td>0</td>\n",
              "      <td>0</td>\n",
              "      <td>0</td>\n",
              "      <td>0</td>\n",
              "      <td>0</td>\n",
              "      <td>0</td>\n",
              "      <td>0</td>\n",
              "      <td>0</td>\n",
              "      <td>0</td>\n",
              "      <td>0</td>\n",
              "      <td>0</td>\n",
              "      <td>0</td>\n",
              "      <td>0</td>\n",
              "      <td>0</td>\n",
              "      <td>0</td>\n",
              "      <td>0</td>\n",
              "      <td>0</td>\n",
              "      <td>0</td>\n",
              "      <td>0</td>\n",
              "      <td>0</td>\n",
              "      <td>0</td>\n",
              "      <td>0</td>\n",
              "      <td>0</td>\n",
              "      <td>0</td>\n",
              "    </tr>\n",
              "    <tr>\n",
              "      <th>1</th>\n",
              "      <td>0</td>\n",
              "      <td>0</td>\n",
              "      <td>0</td>\n",
              "      <td>0</td>\n",
              "      <td>0</td>\n",
              "      <td>0</td>\n",
              "      <td>0</td>\n",
              "      <td>0</td>\n",
              "      <td>0</td>\n",
              "      <td>0</td>\n",
              "      <td>0</td>\n",
              "      <td>0</td>\n",
              "      <td>0</td>\n",
              "      <td>0</td>\n",
              "      <td>0</td>\n",
              "      <td>0</td>\n",
              "      <td>0</td>\n",
              "      <td>0</td>\n",
              "      <td>0</td>\n",
              "      <td>0</td>\n",
              "      <td>0</td>\n",
              "      <td>0</td>\n",
              "      <td>0</td>\n",
              "      <td>0</td>\n",
              "      <td>0</td>\n",
              "      <td>0</td>\n",
              "      <td>0</td>\n",
              "      <td>0</td>\n",
              "      <td>0</td>\n",
              "      <td>0</td>\n",
              "      <td>0</td>\n",
              "      <td>0</td>\n",
              "      <td>0</td>\n",
              "      <td>0</td>\n",
              "      <td>0</td>\n",
              "      <td>0</td>\n",
              "      <td>0</td>\n",
              "      <td>0</td>\n",
              "      <td>0</td>\n",
              "      <td>0</td>\n",
              "      <td>...</td>\n",
              "      <td>0</td>\n",
              "      <td>0</td>\n",
              "      <td>0</td>\n",
              "      <td>0</td>\n",
              "      <td>0</td>\n",
              "      <td>0</td>\n",
              "      <td>0</td>\n",
              "      <td>0</td>\n",
              "      <td>0</td>\n",
              "      <td>0</td>\n",
              "      <td>0</td>\n",
              "      <td>0</td>\n",
              "      <td>0</td>\n",
              "      <td>0</td>\n",
              "      <td>0</td>\n",
              "      <td>0</td>\n",
              "      <td>0</td>\n",
              "      <td>0</td>\n",
              "      <td>0</td>\n",
              "      <td>0</td>\n",
              "      <td>0</td>\n",
              "      <td>0</td>\n",
              "      <td>0</td>\n",
              "      <td>0</td>\n",
              "      <td>0</td>\n",
              "      <td>0</td>\n",
              "      <td>0</td>\n",
              "      <td>0</td>\n",
              "      <td>0</td>\n",
              "      <td>0</td>\n",
              "      <td>0</td>\n",
              "      <td>0</td>\n",
              "      <td>0</td>\n",
              "      <td>0</td>\n",
              "      <td>0</td>\n",
              "      <td>0</td>\n",
              "      <td>0</td>\n",
              "      <td>0</td>\n",
              "      <td>0</td>\n",
              "      <td>0</td>\n",
              "    </tr>\n",
              "    <tr>\n",
              "      <th>2</th>\n",
              "      <td>0</td>\n",
              "      <td>0</td>\n",
              "      <td>0</td>\n",
              "      <td>0</td>\n",
              "      <td>0</td>\n",
              "      <td>0</td>\n",
              "      <td>0</td>\n",
              "      <td>0</td>\n",
              "      <td>0</td>\n",
              "      <td>0</td>\n",
              "      <td>0</td>\n",
              "      <td>0</td>\n",
              "      <td>0</td>\n",
              "      <td>0</td>\n",
              "      <td>0</td>\n",
              "      <td>0</td>\n",
              "      <td>0</td>\n",
              "      <td>0</td>\n",
              "      <td>0</td>\n",
              "      <td>0</td>\n",
              "      <td>0</td>\n",
              "      <td>0</td>\n",
              "      <td>0</td>\n",
              "      <td>0</td>\n",
              "      <td>0</td>\n",
              "      <td>0</td>\n",
              "      <td>0</td>\n",
              "      <td>0</td>\n",
              "      <td>0</td>\n",
              "      <td>0</td>\n",
              "      <td>0</td>\n",
              "      <td>0</td>\n",
              "      <td>0</td>\n",
              "      <td>0</td>\n",
              "      <td>0</td>\n",
              "      <td>0</td>\n",
              "      <td>0</td>\n",
              "      <td>0</td>\n",
              "      <td>0</td>\n",
              "      <td>0</td>\n",
              "      <td>...</td>\n",
              "      <td>0</td>\n",
              "      <td>0</td>\n",
              "      <td>0</td>\n",
              "      <td>0</td>\n",
              "      <td>0</td>\n",
              "      <td>0</td>\n",
              "      <td>0</td>\n",
              "      <td>0</td>\n",
              "      <td>0</td>\n",
              "      <td>0</td>\n",
              "      <td>0</td>\n",
              "      <td>0</td>\n",
              "      <td>0</td>\n",
              "      <td>0</td>\n",
              "      <td>0</td>\n",
              "      <td>0</td>\n",
              "      <td>0</td>\n",
              "      <td>0</td>\n",
              "      <td>0</td>\n",
              "      <td>0</td>\n",
              "      <td>0</td>\n",
              "      <td>0</td>\n",
              "      <td>0</td>\n",
              "      <td>0</td>\n",
              "      <td>0</td>\n",
              "      <td>0</td>\n",
              "      <td>0</td>\n",
              "      <td>0</td>\n",
              "      <td>0</td>\n",
              "      <td>0</td>\n",
              "      <td>0</td>\n",
              "      <td>0</td>\n",
              "      <td>0</td>\n",
              "      <td>0</td>\n",
              "      <td>0</td>\n",
              "      <td>0</td>\n",
              "      <td>0</td>\n",
              "      <td>0</td>\n",
              "      <td>0</td>\n",
              "      <td>0</td>\n",
              "    </tr>\n",
              "    <tr>\n",
              "      <th>3</th>\n",
              "      <td>0</td>\n",
              "      <td>0</td>\n",
              "      <td>0</td>\n",
              "      <td>0</td>\n",
              "      <td>0</td>\n",
              "      <td>0</td>\n",
              "      <td>0</td>\n",
              "      <td>0</td>\n",
              "      <td>0</td>\n",
              "      <td>0</td>\n",
              "      <td>0</td>\n",
              "      <td>0</td>\n",
              "      <td>0</td>\n",
              "      <td>0</td>\n",
              "      <td>0</td>\n",
              "      <td>0</td>\n",
              "      <td>0</td>\n",
              "      <td>0</td>\n",
              "      <td>0</td>\n",
              "      <td>0</td>\n",
              "      <td>0</td>\n",
              "      <td>0</td>\n",
              "      <td>0</td>\n",
              "      <td>0</td>\n",
              "      <td>0</td>\n",
              "      <td>0</td>\n",
              "      <td>0</td>\n",
              "      <td>0</td>\n",
              "      <td>0</td>\n",
              "      <td>0</td>\n",
              "      <td>0</td>\n",
              "      <td>0</td>\n",
              "      <td>0</td>\n",
              "      <td>0</td>\n",
              "      <td>0</td>\n",
              "      <td>0</td>\n",
              "      <td>0</td>\n",
              "      <td>0</td>\n",
              "      <td>0</td>\n",
              "      <td>0</td>\n",
              "      <td>...</td>\n",
              "      <td>0</td>\n",
              "      <td>0</td>\n",
              "      <td>0</td>\n",
              "      <td>0</td>\n",
              "      <td>0</td>\n",
              "      <td>0</td>\n",
              "      <td>0</td>\n",
              "      <td>0</td>\n",
              "      <td>0</td>\n",
              "      <td>0</td>\n",
              "      <td>0</td>\n",
              "      <td>0</td>\n",
              "      <td>0</td>\n",
              "      <td>0</td>\n",
              "      <td>0</td>\n",
              "      <td>0</td>\n",
              "      <td>0</td>\n",
              "      <td>0</td>\n",
              "      <td>0</td>\n",
              "      <td>0</td>\n",
              "      <td>0</td>\n",
              "      <td>0</td>\n",
              "      <td>0</td>\n",
              "      <td>0</td>\n",
              "      <td>0</td>\n",
              "      <td>0</td>\n",
              "      <td>0</td>\n",
              "      <td>0</td>\n",
              "      <td>0</td>\n",
              "      <td>0</td>\n",
              "      <td>0</td>\n",
              "      <td>0</td>\n",
              "      <td>0</td>\n",
              "      <td>0</td>\n",
              "      <td>0</td>\n",
              "      <td>0</td>\n",
              "      <td>0</td>\n",
              "      <td>0</td>\n",
              "      <td>0</td>\n",
              "      <td>0</td>\n",
              "    </tr>\n",
              "    <tr>\n",
              "      <th>4</th>\n",
              "      <td>0</td>\n",
              "      <td>0</td>\n",
              "      <td>0</td>\n",
              "      <td>0</td>\n",
              "      <td>0</td>\n",
              "      <td>0</td>\n",
              "      <td>0</td>\n",
              "      <td>0</td>\n",
              "      <td>0</td>\n",
              "      <td>0</td>\n",
              "      <td>0</td>\n",
              "      <td>0</td>\n",
              "      <td>0</td>\n",
              "      <td>0</td>\n",
              "      <td>0</td>\n",
              "      <td>0</td>\n",
              "      <td>0</td>\n",
              "      <td>0</td>\n",
              "      <td>0</td>\n",
              "      <td>0</td>\n",
              "      <td>0</td>\n",
              "      <td>0</td>\n",
              "      <td>0</td>\n",
              "      <td>0</td>\n",
              "      <td>0</td>\n",
              "      <td>0</td>\n",
              "      <td>0</td>\n",
              "      <td>0</td>\n",
              "      <td>0</td>\n",
              "      <td>0</td>\n",
              "      <td>0</td>\n",
              "      <td>0</td>\n",
              "      <td>0</td>\n",
              "      <td>0</td>\n",
              "      <td>0</td>\n",
              "      <td>0</td>\n",
              "      <td>0</td>\n",
              "      <td>0</td>\n",
              "      <td>0</td>\n",
              "      <td>0</td>\n",
              "      <td>...</td>\n",
              "      <td>0</td>\n",
              "      <td>0</td>\n",
              "      <td>0</td>\n",
              "      <td>0</td>\n",
              "      <td>0</td>\n",
              "      <td>0</td>\n",
              "      <td>0</td>\n",
              "      <td>0</td>\n",
              "      <td>0</td>\n",
              "      <td>0</td>\n",
              "      <td>0</td>\n",
              "      <td>0</td>\n",
              "      <td>0</td>\n",
              "      <td>0</td>\n",
              "      <td>0</td>\n",
              "      <td>0</td>\n",
              "      <td>0</td>\n",
              "      <td>0</td>\n",
              "      <td>0</td>\n",
              "      <td>0</td>\n",
              "      <td>0</td>\n",
              "      <td>0</td>\n",
              "      <td>0</td>\n",
              "      <td>0</td>\n",
              "      <td>0</td>\n",
              "      <td>0</td>\n",
              "      <td>0</td>\n",
              "      <td>0</td>\n",
              "      <td>0</td>\n",
              "      <td>0</td>\n",
              "      <td>0</td>\n",
              "      <td>0</td>\n",
              "      <td>0</td>\n",
              "      <td>0</td>\n",
              "      <td>0</td>\n",
              "      <td>0</td>\n",
              "      <td>0</td>\n",
              "      <td>0</td>\n",
              "      <td>0</td>\n",
              "      <td>0</td>\n",
              "    </tr>\n",
              "  </tbody>\n",
              "</table>\n",
              "<p>5 rows × 17995 columns</p>\n",
              "</div>"
            ],
            "text/plain": [
              "   00  000  0003  000kwh  002  008  ...  zotz  zucchini  zuke  zukes  zupas  zuppa\n",
              "0   0    0     0       0    0    0  ...     0         0     0      0      0      0\n",
              "1   0    0     0       0    0    0  ...     0         0     0      0      0      0\n",
              "2   0    0     0       0    0    0  ...     0         0     0      0      0      0\n",
              "3   0    0     0       0    0    0  ...     0         0     0      0      0      0\n",
              "4   0    0     0       0    0    0  ...     0         0     0      0      0      0\n",
              "\n",
              "[5 rows x 17995 columns]"
            ]
          },
          "metadata": {
            "tags": []
          },
          "execution_count": 34
        }
      ]
    },
    {
      "cell_type": "code",
      "metadata": {
        "id": "J47TDJrcDt2e"
      },
      "source": [
        "### Creating a python object of the class CountVectorizer\n",
        "\n",
        "bow_counts = CountVectorizer(min_df=2, tokenizer= word_tokenize, # type of tokenization\n",
        "                             stop_words=noise_words, # List of stopwords\n",
        "                             ngram_range=(1,1)) # number of n-grams\n",
        "\n",
        "bow_data = bow_counts.fit_transform(upsampled['reviews_text_new'])"
      ],
      "execution_count": 35,
      "outputs": []
    },
    {
      "cell_type": "code",
      "metadata": {
        "colab": {
          "base_uri": "https://localhost:8080/"
        },
        "id": "_TaThgeBDt2e",
        "outputId": "d3a77929-0af2-4fa4-a592-63d5aa3d0a6c"
      },
      "source": [
        "bow_data"
      ],
      "execution_count": 36,
      "outputs": [
        {
          "output_type": "execute_result",
          "data": {
            "text/plain": [
              "<24732x12739 sparse matrix of type '<class 'numpy.int64'>'\n",
              "\twith 1429947 stored elements in Compressed Sparse Row format>"
            ]
          },
          "metadata": {
            "tags": []
          },
          "execution_count": 36
        }
      ]
    },
    {
      "cell_type": "markdown",
      "metadata": {
        "id": "jiOmvT_RDt2e"
      },
      "source": [
        "A sparse matrix of 9138 observations (number of rows of the `reviews_text_new` series) has been built, and 17679 columns corresponding to the features extracted by means of the representation of the 1-gram count of the user reviews."
      ]
    },
    {
      "cell_type": "code",
      "metadata": {
        "id": "70ey_CcbDt2e"
      },
      "source": [
        "X_train_bow, X_test_bow, y_train_bow, y_test_bow = train_test_split(bow_data, # Features\n",
        "                                                                    upsampled['Sentiment_rating'], # Target variable\n",
        "                                                                    test_size = 0.2, # 20% test size\n",
        "                                                                    random_state = 0) # random state for replication purposes"
      ],
      "execution_count": 37,
      "outputs": []
    },
    {
      "cell_type": "code",
      "metadata": {
        "colab": {
          "base_uri": "https://localhost:8080/"
        },
        "id": "2B4BpZ6ODt2e",
        "outputId": "72cf3212-edcb-4551-cac8-8abd502ead7f"
      },
      "source": [
        "y_test_bow.value_counts()/y_test_bow.shape[0]"
      ],
      "execution_count": 38,
      "outputs": [
        {
          "output_type": "execute_result",
          "data": {
            "text/plain": [
              "1    0.500505\n",
              "0    0.499495\n",
              "Name: Sentiment_rating, dtype: float64"
            ]
          },
          "metadata": {
            "tags": []
          },
          "execution_count": 38
        }
      ]
    },
    {
      "cell_type": "markdown",
      "metadata": {
        "id": "uFf3qAdVDt2f"
      },
      "source": [
        "The test data contains almost equal % of positive and negative sentiment reviews. "
      ]
    },
    {
      "cell_type": "markdown",
      "metadata": {
        "id": "U8TcDksJDt2f"
      },
      "source": [
        "To include bigrams, trigrams, and 4-grams:\n",
        "\n",
        "---\n",
        "\n"
      ]
    },
    {
      "cell_type": "code",
      "metadata": {
        "id": "nlVdqvViDt2f"
      },
      "source": [
        "### Changes with respect to the previous code\n",
        "### 1. Increasing the n-grams from just having 1-gram to (1-gram, 2-gram, 3-gram, and 4-gram)\n",
        "### 2. Including the stopwords in the bag of words features\n",
        "\n",
        "bow_counts = CountVectorizer(tokenizer= word_tokenize,\n",
        "                             ngram_range=(1,4))\n",
        "\n",
        "bow_data = bow_counts.fit_transform(upsampled.reviews_text_new)"
      ],
      "execution_count": 39,
      "outputs": []
    },
    {
      "cell_type": "code",
      "metadata": {
        "colab": {
          "base_uri": "https://localhost:8080/"
        },
        "id": "wOi7ChF0Dt2f",
        "outputId": "1fb71dee-6bb7-40bb-9440-8a28eb409811"
      },
      "source": [
        "# Increase in features with inclusion of n-grams\n",
        "bow_data"
      ],
      "execution_count": 40,
      "outputs": [
        {
          "output_type": "execute_result",
          "data": {
            "text/plain": [
              "<24732x1258888 sparse matrix of type '<class 'numpy.int64'>'\n",
              "\twith 7490114 stored elements in Compressed Sparse Row format>"
            ]
          },
          "metadata": {
            "tags": []
          },
          "execution_count": 40
        }
      ]
    },
    {
      "cell_type": "code",
      "metadata": {
        "id": "QrQFt5RJDt2f"
      },
      "source": [
        "X_train_bow, X_test_bow, y_train_bow, y_test_bow = train_test_split(bow_data,\n",
        "                                                                    upsampled['Sentiment_rating'],\n",
        "                                                                    test_size = 0.2,\n",
        "                                                                    random_state = 0)"
      ],
      "execution_count": 41,
      "outputs": []
    },
    {
      "cell_type": "markdown",
      "metadata": {
        "id": "4z_w4tjjDt2g"
      },
      "source": [
        "Re-featurize our original set of reviews based on TF-IDF and split the resulting features into train and test sets:"
      ]
    },
    {
      "cell_type": "code",
      "metadata": {
        "id": "rlPRs9srDt2g"
      },
      "source": [
        "from sklearn.feature_extraction.text import TfidfVectorizer\n",
        "\n",
        "### Creating a python object of the class CountVectorizer\n",
        "tfidf_counts = TfidfVectorizer(min_df=2, tokenizer= word_tokenize, # type of tokenization\n",
        "                               stop_words=noise_words, # List of stopwords\n",
        "                               ngram_range=(1,1)) # number of n-grams\n",
        "\n",
        "tfidf_data = tfidf_counts.fit_transform(upsampled['reviews_text_new'])"
      ],
      "execution_count": 43,
      "outputs": []
    },
    {
      "cell_type": "code",
      "metadata": {
        "colab": {
          "base_uri": "https://localhost:8080/"
        },
        "id": "ovN4XYR3Dt2g",
        "outputId": "dc860c1d-fb25-46e7-e37d-9224aa7a9b41"
      },
      "source": [
        "tfidf_data"
      ],
      "execution_count": 44,
      "outputs": [
        {
          "output_type": "execute_result",
          "data": {
            "text/plain": [
              "<24732x12739 sparse matrix of type '<class 'numpy.float64'>'\n",
              "\twith 1429947 stored elements in Compressed Sparse Row format>"
            ]
          },
          "metadata": {
            "tags": []
          },
          "execution_count": 44
        }
      ]
    },
    {
      "cell_type": "code",
      "metadata": {
        "id": "b6eC5cIWDt2g"
      },
      "source": [
        "X_train_tfidf, X_test_tfidf, y_train_tfidf, y_test_tfidf = train_test_split(tfidf_data,\n",
        "                                                                            upsampled['Sentiment_rating'],\n",
        "                                                                            test_size = 0.2,\n",
        "                                                                            random_state = 0)"
      ],
      "execution_count": 45,
      "outputs": []
    },
    {
      "cell_type": "markdown",
      "metadata": {
        "id": "hnNJLhmtDt2f"
      },
      "source": [
        "Applying logistic regression to the features created from BOW:\n",
        "\n",
        "\n",
        "\n",
        "\n",
        "\n"
      ]
    },
    {
      "cell_type": "code",
      "metadata": {
        "colab": {
          "base_uri": "https://localhost:8080/"
        },
        "id": "oGfj7jL-Dt2f",
        "outputId": "c43bc473-7e2f-4ed4-e439-cf26e039809f"
      },
      "source": [
        "# Defining and training the model\n",
        "lr_model_all_bow = LogisticRegression(max_iter = 200)\n",
        "lr_model_all_bow.fit(X_train_bow, y_train_bow)\n",
        "\n",
        "# Predicting the results\n",
        "test_pred_lr_all = lr_model_all_bow.predict(X_test_bow)\n",
        "accuracy_score = metrics.accuracy_score(test_pred_lr_all, y_test_bow)\n",
        "\n",
        "print(\"F1 score: \", f1_score(y_test_bow,test_pred_lr_all))\n",
        "print(\"Accuracy score:\", str('{:04.2f}'.format(accuracy_score*100))+'%')\n",
        "\n",
        "#Evaluation\n",
        "### using only the fitted training data\n",
        "scores = cross_val_score(lr_model_all_bow, X_train_bow, y_train_bow, cv=5)\n",
        "print(\"Val score:\", np.mean(scores), scores)\n",
        "\n",
        "### Precision and Recall\n",
        "\n",
        "precisions = precision_score(y_test_bow, test_pred_lr_all, average=None)\n",
        "print('Precision', np.mean(precisions), precisions)\n",
        "\n",
        "recalls = recall_score(y_test_bow, test_pred_lr_all, average=None)\n",
        "print('Recall', np.mean(recalls), recalls)"
      ],
      "execution_count": 42,
      "outputs": [
        {
          "output_type": "stream",
          "text": [
            "F1 score:  0.9930922389272655\n",
            "Accuracy score: 99.31%\n",
            "Val score: 0.9902956785443517 [0.99115492 0.98711145 0.99115492 0.99216578 0.98989133]\n",
            "Precision 0.9931937282323375 [0.98720512 0.99918234]\n",
            "Recall 0.9931332700031186 [0.99919061 0.98707593]\n"
          ],
          "name": "stdout"
        }
      ]
    },
    {
      "cell_type": "markdown",
      "metadata": {
        "id": "KP-B7y8BDt2g"
      },
      "source": [
        "Applying logistic regression to the features created from TF-IDF:"
      ]
    },
    {
      "cell_type": "code",
      "metadata": {
        "colab": {
          "base_uri": "https://localhost:8080/"
        },
        "id": "KFfWUFSCDt2g",
        "outputId": "d292352e-e22a-4efb-b5cc-eac6bcf4832d"
      },
      "source": [
        "### Setting up the model class\n",
        "lr_model_tf_idf = LogisticRegression()\n",
        "\n",
        "## Training the model \n",
        "lr_model_tf_idf.fit(X_train_tfidf,y_train_tfidf)\n",
        "\n",
        "## Predicting the results\n",
        "test_pred_lr_all = lr_model_tf_idf.predict(X_test_tfidf)\n",
        "accuracy_score = metrics.accuracy_score(test_pred_lr_all, y_test_tfidf)\n",
        "\n",
        "print(\"F1 score: \",f1_score(y_test_bow, test_pred_lr_all))\n",
        "print(\"Accuracy score:\", str('{:04.2f}'.format(accuracy_score*100))+'%')\n",
        "\n",
        "#Evaluation\n",
        "### using only the fitted training data\n",
        "scores = cross_val_score(lr_model_tf_idf, X_train_tfidf, y_train_tfidf, cv=5)\n",
        "print(\"Val score:\", np.mean(scores), scores)\n",
        "\n",
        "### Precision and Recall\n",
        "\n",
        "precisions = precision_score(y_test_tfidf, test_pred_lr_all, average=None)\n",
        "print('Precision', np.mean(precisions), precisions)\n",
        "\n",
        "recalls = recall_score(y_test_tfidf, test_pred_lr_all, average=None)\n",
        "print('Recall', np.mean(recalls), recalls)"
      ],
      "execution_count": 46,
      "outputs": [
        {
          "output_type": "stream",
          "text": [
            "F1 score:  0.9559279950341404\n",
            "Accuracy score: 95.69%\n",
            "Val score: 0.9519332827899925 [0.95072024 0.94996209 0.94970938 0.95476371 0.95451099]\n",
            "Precision 0.9579833667232903 [0.93590734 0.9800594 ]\n",
            "Recall 0.9569678709214284 [0.98097936 0.93295638]\n"
          ],
          "name": "stdout"
        }
      ]
    },
    {
      "cell_type": "markdown",
      "metadata": {
        "id": "hw2noQwgDt2g"
      },
      "source": [
        "Logistic Regression: F1 score value decreased slightly with TF-IDF as compared to the bag-of-words approach. Accuracy score value is at 99.31% for bag-of-words and 95.69% for TF-IDF approach. The average score of BOW model using cross validation is 0.99 and 0.95 for TF-IDF approach."
      ]
    },
    {
      "cell_type": "markdown",
      "metadata": {
        "id": "kQtkrhaspILR"
      },
      "source": [
        " #Applying Naive Bayes to the features created from BOW:\n",
        "\n",
        "\n",
        "\n",
        "\n"
      ]
    },
    {
      "cell_type": "code",
      "metadata": {
        "colab": {
          "base_uri": "https://localhost:8080/"
        },
        "id": "3m1IRbaKpu07",
        "outputId": "1d7cacab-655d-4623-dab4-f6cc86da0167"
      },
      "source": [
        "# Defining and training the model\n",
        "MNB_model_all_bow = MultinomialNB()\n",
        "MNB_model_all_bow.fit(X_train_bow, y_train_bow)\n",
        "\n",
        "# Predicting the results\n",
        "test_pred_MNB_all = MNB_model_all_bow.predict(X_test_bow)\n",
        "accuracy_score = metrics.accuracy_score(test_pred_MNB_all, y_test_bow)\n",
        "\n",
        "print(\"F1 score: \", f1_score(y_test_bow,test_pred_MNB_all))\n",
        "print(\"Accuracy score:\", str('{:04.2f}'.format(accuracy_score*100))+'%')\n",
        "\n",
        "#Evaluation\n",
        "### using only the fitted training data\n",
        "scores = cross_val_score(MNB_model_all_bow, X_train_bow, y_train_bow, cv=5)\n",
        "print(\"Val score:\", np.mean(scores), scores)\n",
        "\n",
        "### Precision and Recall\n",
        "\n",
        "precisions = precision_score(y_test_bow, test_pred_MNB_all, average=None)\n",
        "print('Precision', np.mean(precisions), precisions)\n",
        "\n",
        "recalls = recall_score(y_test_bow, test_pred_MNB_all, average=None)\n",
        "print('Recall', np.mean(recalls), recalls)"
      ],
      "execution_count": 47,
      "outputs": [
        {
          "output_type": "stream",
          "text": [
            "F1 score:  0.9955483609874544\n",
            "Accuracy score: 99.56%\n",
            "Val score: 0.9940864291129644 [0.99368208 0.99368208 0.99494567 0.99519838 0.99292393]\n",
            "Precision 0.9955589487403538 [0.99355099 0.99756691]\n",
            "Recall 0.9955548988623444 [0.99757183 0.99353796]\n"
          ],
          "name": "stdout"
        }
      ]
    },
    {
      "cell_type": "markdown",
      "metadata": {
        "id": "T2zgf87mPRXY"
      },
      "source": [
        "Applying Naive Bayes to the features created from TF-IDF:"
      ]
    },
    {
      "cell_type": "code",
      "metadata": {
        "colab": {
          "base_uri": "https://localhost:8080/"
        },
        "id": "loS2uEaGPo_I",
        "outputId": "7c494fe0-f107-4de6-f896-ca862c83b32c"
      },
      "source": [
        "### Setting up the model class\n",
        "MNB_model_tf_idf = MultinomialNB()\n",
        "\n",
        "## Training the model \n",
        "MNB_model_tf_idf.fit(X_train_tfidf,y_train_tfidf)\n",
        "\n",
        "## Predicting the results\n",
        "test_pred_MNB_all = MNB_model_tf_idf.predict(X_test_tfidf)\n",
        "accuracy_score = metrics.accuracy_score(test_pred_MNB_all, y_test_tfidf)\n",
        "\n",
        "print(\"F1 score: \",f1_score(y_test_tfidf, test_pred_MNB_all))\n",
        "print(\"Accuracy score:\", str('{:04.2f}'.format(accuracy_score*100))+'%')\n",
        "\n",
        "#Evaluation\n",
        "### using only the fitted training data\n",
        "scores = cross_val_score(MNB_model_tf_idf, X_train_tfidf, y_train_tfidf, cv=5)\n",
        "print(\"Val score:\", np.mean(scores), scores)\n",
        "\n",
        "### Precision and Recall\n",
        "\n",
        "precisions = precision_score(y_test_tfidf, test_pred_MNB_all, average=None)\n",
        "print('Precision', np.mean(precisions), precisions)\n",
        "\n",
        "recalls = recall_score(y_test_tfidf, test_pred_MNB_all, average=None)\n",
        "print('Recall', np.mean(recalls), recalls)"
      ],
      "execution_count": 48,
      "outputs": [
        {
          "output_type": "stream",
          "text": [
            "F1 score:  0.9405250205086136\n",
            "Accuracy score: 94.14%\n",
            "Val score: 0.9362648471063938 [0.94162244 0.93277736 0.93732626 0.93732626 0.93227192]\n",
            "Precision 0.9417837161366314 [0.92815077 0.95541667]\n",
            "Recall 0.9413940808695896 [0.95669769 0.92609047]\n"
          ],
          "name": "stdout"
        }
      ]
    },
    {
      "cell_type": "markdown",
      "metadata": {
        "id": "m_P9YhywgXlk"
      },
      "source": [
        "Naive Bayes: F1 score value decreased slightly with TF-IDF as compared to the bag-of-words approach.This is the best overall performing model using BOW approach. Accuracy score value is at 99.56% for bag-of-words and 94.14% for TF-IDF approach. The average score of BOW model using cross validation is 0.99 and 0.93 for TF-IDF approach."
      ]
    },
    {
      "cell_type": "markdown",
      "metadata": {
        "id": "tt-Xy9dfQVTl"
      },
      "source": [
        "Applying Support Vector Machine to the features created from BOW:"
      ]
    },
    {
      "cell_type": "code",
      "metadata": {
        "colab": {
          "base_uri": "https://localhost:8080/"
        },
        "id": "uGrWm4C07JZt",
        "outputId": "04530fba-8171-4d4f-f5f6-7fe64a6e9e6e"
      },
      "source": [
        "# Defining and training the model\n",
        "SVC_model_all_bow = LinearSVC(max_iter = 200)\n",
        "SVC_model_all_bow.fit(X_train_bow, y_train_bow)\n",
        "\n",
        "#Predicting the results\n",
        "test_pred_SVC_all = SVC_model_all_bow.predict(X_test_bow)\n",
        "accuracy_score = metrics.accuracy_score(test_pred_SVC_all, y_test_bow)\n",
        "\n",
        "print(\"F1 score: \", f1_score(y_test_bow,test_pred_SVC_all))\n",
        "print(\"Accuracy score:\", str('{:04.2f}'.format(accuracy_score*100))+'%')\n",
        "\n",
        "#Evaluation\n",
        "### using only the fitted training data\n",
        "scores = cross_val_score(SVC_model_all_bow, X_train_bow, y_train_bow, cv=5)\n",
        "print(\"Val score:\", np.mean(scores), scores)\n",
        "\n",
        "### Precision and Recall\n",
        "\n",
        "precisions = precision_score(y_test_bow, test_pred_SVC_all, average=None)\n",
        "print('Precision', np.mean(precisions), precisions)\n",
        "\n",
        "recalls = recall_score(y_test_bow, test_pred_SVC_all, average=None)\n",
        "print('Recall', np.mean(recalls), recalls)\n"
      ],
      "execution_count": 49,
      "outputs": [
        {
          "output_type": "stream",
          "text": [
            "F1 score:  0.9941140653541709\n",
            "Accuracy score: 99.41%\n",
            "Val score: 0.9922163254991156 [0.99317665 0.99064948 0.99317665 0.99292393 0.99115492]\n",
            "Precision 0.99418334941782 [0.98918269 0.99918401]\n",
            "Recall 0.9941429630564304 [0.99919061 0.98909532]\n"
          ],
          "name": "stdout"
        }
      ]
    },
    {
      "cell_type": "markdown",
      "metadata": {
        "id": "s9JWWQoQU5EF"
      },
      "source": [
        "Applying Support Vector Machine to the features created from TF-IDF:"
      ]
    },
    {
      "cell_type": "code",
      "metadata": {
        "colab": {
          "base_uri": "https://localhost:8080/"
        },
        "id": "9y_xPYW2VDLV",
        "outputId": "6309aebd-bb6b-4cbc-a585-714e526114b2"
      },
      "source": [
        "### Setting up the model class\n",
        "SVC_model_tf_idf = LinearSVC()\n",
        "\n",
        "## Training the model \n",
        "SVC_model_tf_idf.fit(X_train_tfidf,y_train_tfidf)\n",
        "\n",
        "## Predicting the results\n",
        "test_pred_SVC_all = SVC_model_tf_idf.predict(X_test_tfidf)\n",
        "accuracy_score = metrics.accuracy_score(test_pred_SVC_all, y_test_tfidf)\n",
        "\n",
        "print(\"F1 score: \",f1_score(y_test_bow, test_pred_SVC_all))\n",
        "print(\"Accuracy score:\", str('{:04.2f}'.format(accuracy_score*100))+'%')\n",
        "\n",
        "#Evaluation\n",
        "### using only the fitted training data\n",
        "scores = cross_val_score(SVC_model_tf_idf, X_train_tfidf, y_train_tfidf, cv=5)\n",
        "print(\"Val score:\", np.mean(scores), scores)\n",
        "\n",
        "### Precision and Recall\n",
        "\n",
        "precisions = precision_score(y_test_tfidf, test_pred_SVC_all, average=None)\n",
        "print('Precision', np.mean(precisions), precisions)\n",
        "\n",
        "recalls = recall_score(y_test_tfidf, test_pred_SVC_all, average=None)\n",
        "print('Recall', np.mean(recalls), recalls)\n",
        "\n",
        "\n"
      ],
      "execution_count": 50,
      "outputs": [
        {
          "output_type": "stream",
          "text": [
            "F1 score:  0.9836132732486685\n",
            "Accuracy score: 98.38%\n",
            "Val score: 0.9808440737932778 [0.98003538 0.97801365 0.98079353 0.98407885 0.98129896]\n",
            "Precision 0.984202961702395 [0.97048406 0.99792186]\n",
            "Recall 0.9838428680611082 [0.99797653 0.96970921]\n"
          ],
          "name": "stdout"
        }
      ]
    },
    {
      "cell_type": "markdown",
      "metadata": {
        "id": "eGwyMg_6gqX6"
      },
      "source": [
        "Support Vector Machine: F1 score value decreased slightly with TF-IDF as compared to the bag-of-words approach. Accuracy score value is at 99.41% for bag-of-words and 98.38% for TF-IDF approach. The average score of BOW model using cross validation is 0.99 while for TF-IDF approach is at 0.98."
      ]
    },
    {
      "cell_type": "markdown",
      "metadata": {
        "id": "K67Ii_KyNG7P"
      },
      "source": [
        "Interpretable features in terms of what contributed the most to positive and negative sentiment:"
      ]
    },
    {
      "cell_type": "code",
      "metadata": {
        "colab": {
          "base_uri": "https://localhost:8080/",
          "height": 502
        },
        "id": "f6lIxgU3MPA0",
        "outputId": "61082211-39da-424c-dbae-4eb8faae2ecc"
      },
      "source": [
        "SVC_weights = pd.DataFrame(list(zip(bow_counts.get_feature_names(), # get the n-gram feature names\n",
        "                                 SVC_model_all_bow.coef_[0])), # get the MNB coefficients\n",
        "                          columns= ['words','weights']) # defining the colunm names\n",
        "\n",
        "SVC_weights.sort_values(['weights'], ascending = False)[:15] # top-15 more important features for positive reviews"
      ],
      "execution_count": 63,
      "outputs": [
        {
          "output_type": "execute_result",
          "data": {
            "text/html": [
              "<div>\n",
              "<style scoped>\n",
              "    .dataframe tbody tr th:only-of-type {\n",
              "        vertical-align: middle;\n",
              "    }\n",
              "\n",
              "    .dataframe tbody tr th {\n",
              "        vertical-align: top;\n",
              "    }\n",
              "\n",
              "    .dataframe thead th {\n",
              "        text-align: right;\n",
              "    }\n",
              "</style>\n",
              "<table border=\"1\" class=\"dataframe\">\n",
              "  <thead>\n",
              "    <tr style=\"text-align: right;\">\n",
              "      <th></th>\n",
              "      <th>words</th>\n",
              "      <th>weights</th>\n",
              "    </tr>\n",
              "  </thead>\n",
              "  <tbody>\n",
              "    <tr>\n",
              "      <th>447934</th>\n",
              "      <td>great</td>\n",
              "      <td>0.247919</td>\n",
              "    </tr>\n",
              "    <tr>\n",
              "      <th>305175</th>\n",
              "      <td>delicious</td>\n",
              "      <td>0.224688</td>\n",
              "    </tr>\n",
              "    <tr>\n",
              "      <th>437917</th>\n",
              "      <td>good</td>\n",
              "      <td>0.192472</td>\n",
              "    </tr>\n",
              "    <tr>\n",
              "      <th>357636</th>\n",
              "      <td>excellent</td>\n",
              "      <td>0.181319</td>\n",
              "    </tr>\n",
              "    <tr>\n",
              "      <th>809350</th>\n",
              "      <td>perfect</td>\n",
              "      <td>0.179134</td>\n",
              "    </tr>\n",
              "    <tr>\n",
              "      <th>708547</th>\n",
              "      <td>nice</td>\n",
              "      <td>0.178855</td>\n",
              "    </tr>\n",
              "    <tr>\n",
              "      <th>637798</th>\n",
              "      <td>love</td>\n",
              "      <td>0.156553</td>\n",
              "    </tr>\n",
              "    <tr>\n",
              "      <th>171051</th>\n",
              "      <td>best</td>\n",
              "      <td>0.152813</td>\n",
              "    </tr>\n",
              "    <tr>\n",
              "      <th>929101</th>\n",
              "      <td>smooth</td>\n",
              "      <td>0.152781</td>\n",
              "    </tr>\n",
              "    <tr>\n",
              "      <th>1235389</th>\n",
              "      <td>wonderful</td>\n",
              "      <td>0.151030</td>\n",
              "    </tr>\n",
              "    <tr>\n",
              "      <th>641252</th>\n",
              "      <td>loves</td>\n",
              "      <td>0.147058</td>\n",
              "    </tr>\n",
              "    <tr>\n",
              "      <th>722543</th>\n",
              "      <td>not too</td>\n",
              "      <td>0.145304</td>\n",
              "    </tr>\n",
              "    <tr>\n",
              "      <th>1021651</th>\n",
              "      <td>the best</td>\n",
              "      <td>0.129392</td>\n",
              "    </tr>\n",
              "    <tr>\n",
              "      <th>512720</th>\n",
              "      <td>i like</td>\n",
              "      <td>0.122628</td>\n",
              "    </tr>\n",
              "    <tr>\n",
              "      <th>639894</th>\n",
              "      <td>love this</td>\n",
              "      <td>0.121736</td>\n",
              "    </tr>\n",
              "  </tbody>\n",
              "</table>\n",
              "</div>"
            ],
            "text/plain": [
              "             words   weights\n",
              "447934       great  0.247919\n",
              "305175   delicious  0.224688\n",
              "437917        good  0.192472\n",
              "357636   excellent  0.181319\n",
              "809350     perfect  0.179134\n",
              "708547        nice  0.178855\n",
              "637798        love  0.156553\n",
              "171051        best  0.152813\n",
              "929101      smooth  0.152781\n",
              "1235389  wonderful  0.151030\n",
              "641252       loves  0.147058\n",
              "722543     not too  0.145304\n",
              "1021651   the best  0.129392\n",
              "512720      i like  0.122628\n",
              "639894   love this  0.121736"
            ]
          },
          "metadata": {
            "tags": []
          },
          "execution_count": 63
        }
      ]
    },
    {
      "cell_type": "code",
      "metadata": {
        "colab": {
          "base_uri": "https://localhost:8080/",
          "height": 502
        },
        "id": "-dSS49jcNiVK",
        "outputId": "0e0ed4f2-f5e9-4d82-9bb2-6a285dba7580"
      },
      "source": [
        "SVC_weights.sort_values(['weights'], ascending = False)[-15:] # top-15 more important features for negative reviews"
      ],
      "execution_count": 64,
      "outputs": [
        {
          "output_type": "execute_result",
          "data": {
            "text/html": [
              "<div>\n",
              "<style scoped>\n",
              "    .dataframe tbody tr th:only-of-type {\n",
              "        vertical-align: middle;\n",
              "    }\n",
              "\n",
              "    .dataframe tbody tr th {\n",
              "        vertical-align: top;\n",
              "    }\n",
              "\n",
              "    .dataframe thead th {\n",
              "        text-align: right;\n",
              "    }\n",
              "</style>\n",
              "<table border=\"1\" class=\"dataframe\">\n",
              "  <thead>\n",
              "    <tr style=\"text-align: right;\">\n",
              "      <th></th>\n",
              "      <th>words</th>\n",
              "      <th>weights</th>\n",
              "    </tr>\n",
              "  </thead>\n",
              "  <tbody>\n",
              "    <tr>\n",
              "      <th>872706</th>\n",
              "      <td>return</td>\n",
              "      <td>-0.131014</td>\n",
              "    </tr>\n",
              "    <tr>\n",
              "      <th>1239229</th>\n",
              "      <td>worst</td>\n",
              "      <td>-0.131747</td>\n",
              "    </tr>\n",
              "    <tr>\n",
              "      <th>338661</th>\n",
              "      <td>eat it</td>\n",
              "      <td>-0.134019</td>\n",
              "    </tr>\n",
              "    <tr>\n",
              "      <th>1103129</th>\n",
              "      <td>thought</td>\n",
              "      <td>-0.134229</td>\n",
              "    </tr>\n",
              "    <tr>\n",
              "      <th>1173035</th>\n",
              "      <td>very disappointed</td>\n",
              "      <td>-0.135400</td>\n",
              "    </tr>\n",
              "    <tr>\n",
              "      <th>1241564</th>\n",
              "      <td>would not</td>\n",
              "      <td>-0.136657</td>\n",
              "    </tr>\n",
              "    <tr>\n",
              "      <th>494311</th>\n",
              "      <td>horrible</td>\n",
              "      <td>-0.142033</td>\n",
              "    </tr>\n",
              "    <tr>\n",
              "      <th>957670</th>\n",
              "      <td>stick</td>\n",
              "      <td>-0.147844</td>\n",
              "    </tr>\n",
              "    <tr>\n",
              "      <th>316713</th>\n",
              "      <td>disappointing</td>\n",
              "      <td>-0.153498</td>\n",
              "    </tr>\n",
              "    <tr>\n",
              "      <th>1003667</th>\n",
              "      <td>terrible</td>\n",
              "      <td>-0.155287</td>\n",
              "    </tr>\n",
              "    <tr>\n",
              "      <th>351529</th>\n",
              "      <td>even</td>\n",
              "      <td>-0.164542</td>\n",
              "    </tr>\n",
              "    <tr>\n",
              "      <th>1198947</th>\n",
              "      <td>weak</td>\n",
              "      <td>-0.167776</td>\n",
              "    </tr>\n",
              "    <tr>\n",
              "      <th>144673</th>\n",
              "      <td>awful</td>\n",
              "      <td>-0.174381</td>\n",
              "    </tr>\n",
              "    <tr>\n",
              "      <th>715363</th>\n",
              "      <td>not</td>\n",
              "      <td>-0.196675</td>\n",
              "    </tr>\n",
              "    <tr>\n",
              "      <th>316362</th>\n",
              "      <td>disappointed</td>\n",
              "      <td>-0.263566</td>\n",
              "    </tr>\n",
              "  </tbody>\n",
              "</table>\n",
              "</div>"
            ],
            "text/plain": [
              "                     words   weights\n",
              "872706              return -0.131014\n",
              "1239229              worst -0.131747\n",
              "338661              eat it -0.134019\n",
              "1103129            thought -0.134229\n",
              "1173035  very disappointed -0.135400\n",
              "1241564          would not -0.136657\n",
              "494311            horrible -0.142033\n",
              "957670               stick -0.147844\n",
              "316713       disappointing -0.153498\n",
              "1003667           terrible -0.155287\n",
              "351529                even -0.164542\n",
              "1198947               weak -0.167776\n",
              "144673               awful -0.174381\n",
              "715363                 not -0.196675\n",
              "316362        disappointed -0.263566"
            ]
          },
          "metadata": {
            "tags": []
          },
          "execution_count": 64
        }
      ]
    },
    {
      "cell_type": "markdown",
      "metadata": {
        "id": "K0AKL4-JN4sr"
      },
      "source": [
        "# Test the models:"
      ]
    },
    {
      "cell_type": "code",
      "metadata": {
        "id": "5LjihTmL2PBR"
      },
      "source": [
        "def output(p):\n",
        " if(p == 1):\n",
        "   result = \"GOOD REVIEW\"\n",
        " else:\n",
        "   result = \"BAD REVIEW\"\n",
        " return result\n",
        "\n",
        "\n",
        "def predLR_bow(msg): \n",
        "    msg = bow_counts.transform([msg]).toarray()\n",
        "    #msg = tfv.transform(msg)    \n",
        "    prediction = lr_model_all_bow.predict(msg)\n",
        "#    return prediction[0]\n",
        "    return output(prediction[0]) \n",
        "\n",
        "def predMNB(msg): \n",
        "    msg = bow_counts.transform([msg]).toarray()\n",
        "    #msg = tfv.transform(msg)    \n",
        "    prediction = MNB_model_all_bow.predict(msg)\n",
        "#    return prediction[0]\n",
        "    return output(prediction[0])  \n",
        "\n",
        "\n",
        "def predLinearSVC(msg): \n",
        "    msg = tfidf_counts.transform([msg]).toarray()\n",
        "    #msg = tfv.transform(msg)    \n",
        "    prediction = SVC_model_tf_idf.predict(msg)\n",
        "#    return prediction[0]\n",
        "    return output(prediction[0])\n",
        "\n"
      ],
      "execution_count": 53,
      "outputs": []
    },
    {
      "cell_type": "code",
      "metadata": {
        "id": "iDD5s-Qc4A1d"
      },
      "source": [
        "happy         = \"This place is great! Atmosphere is chill and cool but the staff is also really friendly. They know what they’re doing and what they’re talking about, and you can tell making the customers happy is their main priority. Food is pretty good, some italian classics and some twists, and for their prices it’s 100% worth it.\"\n",
        "happy2        = \"This cozy restaurant has left the best impressions! Hospitable hosts, delicious dishes, beautiful presentation, wide wine list and wonderful dessert. I recommend to everyone! I would like to come back here again and again.\"\n",
        "angry         = \"Shopping on Amazon this past year is the worst. I've received multiple packages and their contents damaged. To return the item and get refund back takes a long time. I'm so disappointed!\"\n",
        "angry2        = \"Amazon customer service is horrible and terrible. Refused to give me a refund and called me a liar.\"\n",
        "Toptable      =\"I love the tp special mocktail.its so dope. The service is patient and outstanding. The head waiter dylan is excellent. He provided a extremely impeccable service. Also I would like to commend Edwin and jolene for thier patience in serving us. Food is filling and of top notch quality. Im greatly impressed.\"\n",
        "\n",
        "test_text = angry2"
      ],
      "execution_count": 54,
      "outputs": []
    },
    {
      "cell_type": "code",
      "metadata": {
        "colab": {
          "base_uri": "https://localhost:8080/"
        },
        "id": "rsmQx-ts4JlF",
        "outputId": "eaaed882-c420-4e9c-a5cf-e9cdaee81a98"
      },
      "source": [
        "print(\"Logistic Regression(Bow) outcome is : \", predLR_bow(test_text))\n",
        "print(\"MNB(Bow) outcome is                 : \", predMNB(test_text))\n",
        "print(\"LinearSVC(TFIDF) outcome is         : \", predLinearSVC(test_text))\n"
      ],
      "execution_count": 55,
      "outputs": [
        {
          "output_type": "stream",
          "text": [
            "Logistic Regression(Bow) outcome is :  BAD REVIEW\n",
            "MNB(Bow) outcome is                 :  BAD REVIEW\n",
            "LinearSVC(TFIDF) outcome is         :  BAD REVIEW\n"
          ],
          "name": "stdout"
        }
      ]
    }
  ]
}